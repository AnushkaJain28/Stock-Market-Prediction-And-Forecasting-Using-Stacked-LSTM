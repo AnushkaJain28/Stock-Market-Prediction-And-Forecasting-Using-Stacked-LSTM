{
 "cells": [
  {
   "cell_type": "markdown",
   "id": "ce6ca9be",
   "metadata": {},
   "source": [
    "# LGMVIP (JANUARY) - Data Science Intern"
   ]
  },
  {
   "cell_type": "markdown",
   "id": "90d8046c",
   "metadata": {},
   "source": [
    "# TASK - 2 : Stock Market Prediction And Forecasting Using Stacked LSTM\n"
   ]
  },
  {
   "cell_type": "markdown",
   "id": "fe784e1e",
   "metadata": {},
   "source": [
    "# NAME        : Anushka Jain"
   ]
  },
  {
   "cell_type": "code",
   "execution_count": 1,
   "id": "bee0bf98",
   "metadata": {
    "id": "bee0bf98"
   },
   "outputs": [],
   "source": [
    "import pandas as pd\n",
    "import numpy as np\n",
    "from matplotlib import pyplot as plt\n",
    "import seaborn as sns\n"
   ]
  },
  {
   "cell_type": "markdown",
   "id": "G16xcy7EyiMG",
   "metadata": {
    "id": "G16xcy7EyiMG"
   },
   "source": []
  },
  {
   "cell_type": "markdown",
   "id": "dd592e14",
   "metadata": {
    "id": "dd592e14"
   },
   "source": [
    "# DATA ACQUISITION / IMPORT THE DATASET"
   ]
  },
  {
   "cell_type": "code",
   "execution_count": 2,
   "id": "93cd4ad5",
   "metadata": {
    "id": "93cd4ad5"
   },
   "outputs": [],
   "source": [
    "df=pd.read_csv('https://raw.githubusercontent.com/mwitiderrick/stockprice/master/NSE-TATAGLOBAL.csv')"
   ]
  },
  {
   "cell_type": "code",
   "execution_count": 3,
   "id": "ff7322ec",
   "metadata": {
    "colab": {
     "base_uri": "https://localhost:8080/",
     "height": 206
    },
    "id": "ff7322ec",
    "outputId": "2894bb2d-159c-40e2-f8a2-bd4a401f2150"
   },
   "outputs": [
    {
     "data": {
      "text/html": [
       "<div>\n",
       "<style scoped>\n",
       "    .dataframe tbody tr th:only-of-type {\n",
       "        vertical-align: middle;\n",
       "    }\n",
       "\n",
       "    .dataframe tbody tr th {\n",
       "        vertical-align: top;\n",
       "    }\n",
       "\n",
       "    .dataframe thead th {\n",
       "        text-align: right;\n",
       "    }\n",
       "</style>\n",
       "<table border=\"1\" class=\"dataframe\">\n",
       "  <thead>\n",
       "    <tr style=\"text-align: right;\">\n",
       "      <th></th>\n",
       "      <th>Date</th>\n",
       "      <th>Open</th>\n",
       "      <th>High</th>\n",
       "      <th>Low</th>\n",
       "      <th>Last</th>\n",
       "      <th>Close</th>\n",
       "      <th>Total Trade Quantity</th>\n",
       "      <th>Turnover (Lacs)</th>\n",
       "    </tr>\n",
       "  </thead>\n",
       "  <tbody>\n",
       "    <tr>\n",
       "      <th>0</th>\n",
       "      <td>2018-09-28</td>\n",
       "      <td>234.05</td>\n",
       "      <td>235.95</td>\n",
       "      <td>230.20</td>\n",
       "      <td>233.50</td>\n",
       "      <td>233.75</td>\n",
       "      <td>3069914</td>\n",
       "      <td>7162.35</td>\n",
       "    </tr>\n",
       "    <tr>\n",
       "      <th>1</th>\n",
       "      <td>2018-09-27</td>\n",
       "      <td>234.55</td>\n",
       "      <td>236.80</td>\n",
       "      <td>231.10</td>\n",
       "      <td>233.80</td>\n",
       "      <td>233.25</td>\n",
       "      <td>5082859</td>\n",
       "      <td>11859.95</td>\n",
       "    </tr>\n",
       "    <tr>\n",
       "      <th>2</th>\n",
       "      <td>2018-09-26</td>\n",
       "      <td>240.00</td>\n",
       "      <td>240.00</td>\n",
       "      <td>232.50</td>\n",
       "      <td>235.00</td>\n",
       "      <td>234.25</td>\n",
       "      <td>2240909</td>\n",
       "      <td>5248.60</td>\n",
       "    </tr>\n",
       "    <tr>\n",
       "      <th>3</th>\n",
       "      <td>2018-09-25</td>\n",
       "      <td>233.30</td>\n",
       "      <td>236.75</td>\n",
       "      <td>232.00</td>\n",
       "      <td>236.25</td>\n",
       "      <td>236.10</td>\n",
       "      <td>2349368</td>\n",
       "      <td>5503.90</td>\n",
       "    </tr>\n",
       "    <tr>\n",
       "      <th>4</th>\n",
       "      <td>2018-09-24</td>\n",
       "      <td>233.55</td>\n",
       "      <td>239.20</td>\n",
       "      <td>230.75</td>\n",
       "      <td>234.00</td>\n",
       "      <td>233.30</td>\n",
       "      <td>3423509</td>\n",
       "      <td>7999.55</td>\n",
       "    </tr>\n",
       "  </tbody>\n",
       "</table>\n",
       "</div>"
      ],
      "text/plain": [
       "         Date    Open    High     Low    Last   Close  Total Trade Quantity  \\\n",
       "0  2018-09-28  234.05  235.95  230.20  233.50  233.75               3069914   \n",
       "1  2018-09-27  234.55  236.80  231.10  233.80  233.25               5082859   \n",
       "2  2018-09-26  240.00  240.00  232.50  235.00  234.25               2240909   \n",
       "3  2018-09-25  233.30  236.75  232.00  236.25  236.10               2349368   \n",
       "4  2018-09-24  233.55  239.20  230.75  234.00  233.30               3423509   \n",
       "\n",
       "   Turnover (Lacs)  \n",
       "0          7162.35  \n",
       "1         11859.95  \n",
       "2          5248.60  \n",
       "3          5503.90  \n",
       "4          7999.55  "
      ]
     },
     "execution_count": 3,
     "metadata": {},
     "output_type": "execute_result"
    }
   ],
   "source": [
    "df.head()"
   ]
  },
  {
   "cell_type": "code",
   "execution_count": 4,
   "id": "e7c9826c",
   "metadata": {
    "colab": {
     "base_uri": "https://localhost:8080/",
     "height": 206
    },
    "id": "e7c9826c",
    "outputId": "e103cb15-0732-4c6a-e041-e432f449e498"
   },
   "outputs": [
    {
     "data": {
      "text/html": [
       "<div>\n",
       "<style scoped>\n",
       "    .dataframe tbody tr th:only-of-type {\n",
       "        vertical-align: middle;\n",
       "    }\n",
       "\n",
       "    .dataframe tbody tr th {\n",
       "        vertical-align: top;\n",
       "    }\n",
       "\n",
       "    .dataframe thead th {\n",
       "        text-align: right;\n",
       "    }\n",
       "</style>\n",
       "<table border=\"1\" class=\"dataframe\">\n",
       "  <thead>\n",
       "    <tr style=\"text-align: right;\">\n",
       "      <th></th>\n",
       "      <th>Date</th>\n",
       "      <th>Open</th>\n",
       "      <th>High</th>\n",
       "      <th>Low</th>\n",
       "      <th>Last</th>\n",
       "      <th>Close</th>\n",
       "      <th>Total Trade Quantity</th>\n",
       "      <th>Turnover (Lacs)</th>\n",
       "    </tr>\n",
       "  </thead>\n",
       "  <tbody>\n",
       "    <tr>\n",
       "      <th>2030</th>\n",
       "      <td>2010-07-27</td>\n",
       "      <td>117.6</td>\n",
       "      <td>119.50</td>\n",
       "      <td>112.00</td>\n",
       "      <td>118.80</td>\n",
       "      <td>118.65</td>\n",
       "      <td>586100</td>\n",
       "      <td>694.98</td>\n",
       "    </tr>\n",
       "    <tr>\n",
       "      <th>2031</th>\n",
       "      <td>2010-07-26</td>\n",
       "      <td>120.1</td>\n",
       "      <td>121.00</td>\n",
       "      <td>117.10</td>\n",
       "      <td>117.10</td>\n",
       "      <td>117.60</td>\n",
       "      <td>658440</td>\n",
       "      <td>780.01</td>\n",
       "    </tr>\n",
       "    <tr>\n",
       "      <th>2032</th>\n",
       "      <td>2010-07-23</td>\n",
       "      <td>121.8</td>\n",
       "      <td>121.95</td>\n",
       "      <td>120.25</td>\n",
       "      <td>120.35</td>\n",
       "      <td>120.65</td>\n",
       "      <td>281312</td>\n",
       "      <td>340.31</td>\n",
       "    </tr>\n",
       "    <tr>\n",
       "      <th>2033</th>\n",
       "      <td>2010-07-22</td>\n",
       "      <td>120.3</td>\n",
       "      <td>122.00</td>\n",
       "      <td>120.25</td>\n",
       "      <td>120.75</td>\n",
       "      <td>120.90</td>\n",
       "      <td>293312</td>\n",
       "      <td>355.17</td>\n",
       "    </tr>\n",
       "    <tr>\n",
       "      <th>2034</th>\n",
       "      <td>2010-07-21</td>\n",
       "      <td>122.1</td>\n",
       "      <td>123.00</td>\n",
       "      <td>121.05</td>\n",
       "      <td>121.10</td>\n",
       "      <td>121.55</td>\n",
       "      <td>658666</td>\n",
       "      <td>803.56</td>\n",
       "    </tr>\n",
       "  </tbody>\n",
       "</table>\n",
       "</div>"
      ],
      "text/plain": [
       "            Date   Open    High     Low    Last   Close  Total Trade Quantity  \\\n",
       "2030  2010-07-27  117.6  119.50  112.00  118.80  118.65                586100   \n",
       "2031  2010-07-26  120.1  121.00  117.10  117.10  117.60                658440   \n",
       "2032  2010-07-23  121.8  121.95  120.25  120.35  120.65                281312   \n",
       "2033  2010-07-22  120.3  122.00  120.25  120.75  120.90                293312   \n",
       "2034  2010-07-21  122.1  123.00  121.05  121.10  121.55                658666   \n",
       "\n",
       "      Turnover (Lacs)  \n",
       "2030           694.98  \n",
       "2031           780.01  \n",
       "2032           340.31  \n",
       "2033           355.17  \n",
       "2034           803.56  "
      ]
     },
     "execution_count": 4,
     "metadata": {},
     "output_type": "execute_result"
    }
   ],
   "source": [
    "df.tail()"
   ]
  },
  {
   "cell_type": "code",
   "execution_count": 5,
   "id": "e25cc729",
   "metadata": {
    "colab": {
     "base_uri": "https://localhost:8080/"
    },
    "id": "e25cc729",
    "outputId": "48c6a680-35b5-48af-db7f-5b9b12d97101"
   },
   "outputs": [
    {
     "data": {
      "text/plain": [
       "(2035, 8)"
      ]
     },
     "execution_count": 5,
     "metadata": {},
     "output_type": "execute_result"
    }
   ],
   "source": [
    "df.shape"
   ]
  },
  {
   "cell_type": "code",
   "execution_count": 6,
   "id": "f67e7605",
   "metadata": {
    "colab": {
     "base_uri": "https://localhost:8080/",
     "height": 344
    },
    "id": "f67e7605",
    "outputId": "a6564c90-ef88-42ad-b023-d1ecd2bc8935"
   },
   "outputs": [
    {
     "data": {
      "text/html": [
       "<div>\n",
       "<style scoped>\n",
       "    .dataframe tbody tr th:only-of-type {\n",
       "        vertical-align: middle;\n",
       "    }\n",
       "\n",
       "    .dataframe tbody tr th {\n",
       "        vertical-align: top;\n",
       "    }\n",
       "\n",
       "    .dataframe thead th {\n",
       "        text-align: right;\n",
       "    }\n",
       "</style>\n",
       "<table border=\"1\" class=\"dataframe\">\n",
       "  <thead>\n",
       "    <tr style=\"text-align: right;\">\n",
       "      <th></th>\n",
       "      <th>Open</th>\n",
       "      <th>High</th>\n",
       "      <th>Low</th>\n",
       "      <th>Last</th>\n",
       "      <th>Close</th>\n",
       "      <th>Total Trade Quantity</th>\n",
       "      <th>Turnover (Lacs)</th>\n",
       "    </tr>\n",
       "  </thead>\n",
       "  <tbody>\n",
       "    <tr>\n",
       "      <th>count</th>\n",
       "      <td>2035.000000</td>\n",
       "      <td>2035.000000</td>\n",
       "      <td>2035.000000</td>\n",
       "      <td>2035.000000</td>\n",
       "      <td>2035.00000</td>\n",
       "      <td>2.035000e+03</td>\n",
       "      <td>2035.000000</td>\n",
       "    </tr>\n",
       "    <tr>\n",
       "      <th>mean</th>\n",
       "      <td>149.713735</td>\n",
       "      <td>151.992826</td>\n",
       "      <td>147.293931</td>\n",
       "      <td>149.474251</td>\n",
       "      <td>149.45027</td>\n",
       "      <td>2.335681e+06</td>\n",
       "      <td>3899.980565</td>\n",
       "    </tr>\n",
       "    <tr>\n",
       "      <th>std</th>\n",
       "      <td>48.664509</td>\n",
       "      <td>49.413109</td>\n",
       "      <td>47.931958</td>\n",
       "      <td>48.732570</td>\n",
       "      <td>48.71204</td>\n",
       "      <td>2.091778e+06</td>\n",
       "      <td>4570.767877</td>\n",
       "    </tr>\n",
       "    <tr>\n",
       "      <th>min</th>\n",
       "      <td>81.100000</td>\n",
       "      <td>82.800000</td>\n",
       "      <td>80.000000</td>\n",
       "      <td>81.000000</td>\n",
       "      <td>80.95000</td>\n",
       "      <td>3.961000e+04</td>\n",
       "      <td>37.040000</td>\n",
       "    </tr>\n",
       "    <tr>\n",
       "      <th>25%</th>\n",
       "      <td>120.025000</td>\n",
       "      <td>122.100000</td>\n",
       "      <td>118.300000</td>\n",
       "      <td>120.075000</td>\n",
       "      <td>120.05000</td>\n",
       "      <td>1.146444e+06</td>\n",
       "      <td>1427.460000</td>\n",
       "    </tr>\n",
       "    <tr>\n",
       "      <th>50%</th>\n",
       "      <td>141.500000</td>\n",
       "      <td>143.400000</td>\n",
       "      <td>139.600000</td>\n",
       "      <td>141.100000</td>\n",
       "      <td>141.25000</td>\n",
       "      <td>1.783456e+06</td>\n",
       "      <td>2512.030000</td>\n",
       "    </tr>\n",
       "    <tr>\n",
       "      <th>75%</th>\n",
       "      <td>157.175000</td>\n",
       "      <td>159.400000</td>\n",
       "      <td>155.150000</td>\n",
       "      <td>156.925000</td>\n",
       "      <td>156.90000</td>\n",
       "      <td>2.813594e+06</td>\n",
       "      <td>4539.015000</td>\n",
       "    </tr>\n",
       "    <tr>\n",
       "      <th>max</th>\n",
       "      <td>327.700000</td>\n",
       "      <td>328.750000</td>\n",
       "      <td>321.650000</td>\n",
       "      <td>325.950000</td>\n",
       "      <td>325.75000</td>\n",
       "      <td>2.919102e+07</td>\n",
       "      <td>55755.080000</td>\n",
       "    </tr>\n",
       "  </tbody>\n",
       "</table>\n",
       "</div>"
      ],
      "text/plain": [
       "              Open         High          Low         Last       Close  \\\n",
       "count  2035.000000  2035.000000  2035.000000  2035.000000  2035.00000   \n",
       "mean    149.713735   151.992826   147.293931   149.474251   149.45027   \n",
       "std      48.664509    49.413109    47.931958    48.732570    48.71204   \n",
       "min      81.100000    82.800000    80.000000    81.000000    80.95000   \n",
       "25%     120.025000   122.100000   118.300000   120.075000   120.05000   \n",
       "50%     141.500000   143.400000   139.600000   141.100000   141.25000   \n",
       "75%     157.175000   159.400000   155.150000   156.925000   156.90000   \n",
       "max     327.700000   328.750000   321.650000   325.950000   325.75000   \n",
       "\n",
       "       Total Trade Quantity  Turnover (Lacs)  \n",
       "count          2.035000e+03      2035.000000  \n",
       "mean           2.335681e+06      3899.980565  \n",
       "std            2.091778e+06      4570.767877  \n",
       "min            3.961000e+04        37.040000  \n",
       "25%            1.146444e+06      1427.460000  \n",
       "50%            1.783456e+06      2512.030000  \n",
       "75%            2.813594e+06      4539.015000  \n",
       "max            2.919102e+07     55755.080000  "
      ]
     },
     "execution_count": 6,
     "metadata": {},
     "output_type": "execute_result"
    }
   ],
   "source": [
    "df.describe()"
   ]
  },
  {
   "cell_type": "code",
   "execution_count": 7,
   "id": "e6081035",
   "metadata": {
    "colab": {
     "base_uri": "https://localhost:8080/"
    },
    "id": "e6081035",
    "outputId": "04332163-74a3-4005-a791-d538f805f096"
   },
   "outputs": [
    {
     "name": "stdout",
     "output_type": "stream",
     "text": [
      "<class 'pandas.core.frame.DataFrame'>\n",
      "RangeIndex: 2035 entries, 0 to 2034\n",
      "Data columns (total 8 columns):\n",
      " #   Column                Non-Null Count  Dtype  \n",
      "---  ------                --------------  -----  \n",
      " 0   Date                  2035 non-null   object \n",
      " 1   Open                  2035 non-null   float64\n",
      " 2   High                  2035 non-null   float64\n",
      " 3   Low                   2035 non-null   float64\n",
      " 4   Last                  2035 non-null   float64\n",
      " 5   Close                 2035 non-null   float64\n",
      " 6   Total Trade Quantity  2035 non-null   int64  \n",
      " 7   Turnover (Lacs)       2035 non-null   float64\n",
      "dtypes: float64(6), int64(1), object(1)\n",
      "memory usage: 127.3+ KB\n"
     ]
    }
   ],
   "source": [
    "df.info()"
   ]
  },
  {
   "cell_type": "code",
   "execution_count": 8,
   "id": "0aed71fd",
   "metadata": {
    "colab": {
     "base_uri": "https://localhost:8080/",
     "height": 424
    },
    "id": "0aed71fd",
    "outputId": "d196cf6b-86a7-43cd-a7b9-17340a786e1e"
   },
   "outputs": [
    {
     "data": {
      "text/html": [
       "<div>\n",
       "<style scoped>\n",
       "    .dataframe tbody tr th:only-of-type {\n",
       "        vertical-align: middle;\n",
       "    }\n",
       "\n",
       "    .dataframe tbody tr th {\n",
       "        vertical-align: top;\n",
       "    }\n",
       "\n",
       "    .dataframe thead th {\n",
       "        text-align: right;\n",
       "    }\n",
       "</style>\n",
       "<table border=\"1\" class=\"dataframe\">\n",
       "  <thead>\n",
       "    <tr style=\"text-align: right;\">\n",
       "      <th></th>\n",
       "      <th>Date</th>\n",
       "      <th>Open</th>\n",
       "      <th>High</th>\n",
       "      <th>Low</th>\n",
       "      <th>Last</th>\n",
       "      <th>Close</th>\n",
       "      <th>Total Trade Quantity</th>\n",
       "      <th>Turnover (Lacs)</th>\n",
       "    </tr>\n",
       "  </thead>\n",
       "  <tbody>\n",
       "    <tr>\n",
       "      <th>0</th>\n",
       "      <td>False</td>\n",
       "      <td>False</td>\n",
       "      <td>False</td>\n",
       "      <td>False</td>\n",
       "      <td>False</td>\n",
       "      <td>False</td>\n",
       "      <td>False</td>\n",
       "      <td>False</td>\n",
       "    </tr>\n",
       "    <tr>\n",
       "      <th>1</th>\n",
       "      <td>False</td>\n",
       "      <td>False</td>\n",
       "      <td>False</td>\n",
       "      <td>False</td>\n",
       "      <td>False</td>\n",
       "      <td>False</td>\n",
       "      <td>False</td>\n",
       "      <td>False</td>\n",
       "    </tr>\n",
       "    <tr>\n",
       "      <th>2</th>\n",
       "      <td>False</td>\n",
       "      <td>False</td>\n",
       "      <td>False</td>\n",
       "      <td>False</td>\n",
       "      <td>False</td>\n",
       "      <td>False</td>\n",
       "      <td>False</td>\n",
       "      <td>False</td>\n",
       "    </tr>\n",
       "    <tr>\n",
       "      <th>3</th>\n",
       "      <td>False</td>\n",
       "      <td>False</td>\n",
       "      <td>False</td>\n",
       "      <td>False</td>\n",
       "      <td>False</td>\n",
       "      <td>False</td>\n",
       "      <td>False</td>\n",
       "      <td>False</td>\n",
       "    </tr>\n",
       "    <tr>\n",
       "      <th>4</th>\n",
       "      <td>False</td>\n",
       "      <td>False</td>\n",
       "      <td>False</td>\n",
       "      <td>False</td>\n",
       "      <td>False</td>\n",
       "      <td>False</td>\n",
       "      <td>False</td>\n",
       "      <td>False</td>\n",
       "    </tr>\n",
       "    <tr>\n",
       "      <th>...</th>\n",
       "      <td>...</td>\n",
       "      <td>...</td>\n",
       "      <td>...</td>\n",
       "      <td>...</td>\n",
       "      <td>...</td>\n",
       "      <td>...</td>\n",
       "      <td>...</td>\n",
       "      <td>...</td>\n",
       "    </tr>\n",
       "    <tr>\n",
       "      <th>2030</th>\n",
       "      <td>False</td>\n",
       "      <td>False</td>\n",
       "      <td>False</td>\n",
       "      <td>False</td>\n",
       "      <td>False</td>\n",
       "      <td>False</td>\n",
       "      <td>False</td>\n",
       "      <td>False</td>\n",
       "    </tr>\n",
       "    <tr>\n",
       "      <th>2031</th>\n",
       "      <td>False</td>\n",
       "      <td>False</td>\n",
       "      <td>False</td>\n",
       "      <td>False</td>\n",
       "      <td>False</td>\n",
       "      <td>False</td>\n",
       "      <td>False</td>\n",
       "      <td>False</td>\n",
       "    </tr>\n",
       "    <tr>\n",
       "      <th>2032</th>\n",
       "      <td>False</td>\n",
       "      <td>False</td>\n",
       "      <td>False</td>\n",
       "      <td>False</td>\n",
       "      <td>False</td>\n",
       "      <td>False</td>\n",
       "      <td>False</td>\n",
       "      <td>False</td>\n",
       "    </tr>\n",
       "    <tr>\n",
       "      <th>2033</th>\n",
       "      <td>False</td>\n",
       "      <td>False</td>\n",
       "      <td>False</td>\n",
       "      <td>False</td>\n",
       "      <td>False</td>\n",
       "      <td>False</td>\n",
       "      <td>False</td>\n",
       "      <td>False</td>\n",
       "    </tr>\n",
       "    <tr>\n",
       "      <th>2034</th>\n",
       "      <td>False</td>\n",
       "      <td>False</td>\n",
       "      <td>False</td>\n",
       "      <td>False</td>\n",
       "      <td>False</td>\n",
       "      <td>False</td>\n",
       "      <td>False</td>\n",
       "      <td>False</td>\n",
       "    </tr>\n",
       "  </tbody>\n",
       "</table>\n",
       "<p>2035 rows × 8 columns</p>\n",
       "</div>"
      ],
      "text/plain": [
       "       Date   Open   High    Low   Last  Close  Total Trade Quantity  \\\n",
       "0     False  False  False  False  False  False                 False   \n",
       "1     False  False  False  False  False  False                 False   \n",
       "2     False  False  False  False  False  False                 False   \n",
       "3     False  False  False  False  False  False                 False   \n",
       "4     False  False  False  False  False  False                 False   \n",
       "...     ...    ...    ...    ...    ...    ...                   ...   \n",
       "2030  False  False  False  False  False  False                 False   \n",
       "2031  False  False  False  False  False  False                 False   \n",
       "2032  False  False  False  False  False  False                 False   \n",
       "2033  False  False  False  False  False  False                 False   \n",
       "2034  False  False  False  False  False  False                 False   \n",
       "\n",
       "      Turnover (Lacs)  \n",
       "0               False  \n",
       "1               False  \n",
       "2               False  \n",
       "3               False  \n",
       "4               False  \n",
       "...               ...  \n",
       "2030            False  \n",
       "2031            False  \n",
       "2032            False  \n",
       "2033            False  \n",
       "2034            False  \n",
       "\n",
       "[2035 rows x 8 columns]"
      ]
     },
     "execution_count": 8,
     "metadata": {},
     "output_type": "execute_result"
    }
   ],
   "source": [
    "df.isnull()"
   ]
  },
  {
   "cell_type": "code",
   "execution_count": 9,
   "id": "78f14bcc",
   "metadata": {
    "colab": {
     "base_uri": "https://localhost:8080/"
    },
    "id": "78f14bcc",
    "outputId": "6eb72835-f348-47c4-9c30-082e4ee98ea1"
   },
   "outputs": [
    {
     "data": {
      "text/plain": [
       "Date                    0\n",
       "Open                    0\n",
       "High                    0\n",
       "Low                     0\n",
       "Last                    0\n",
       "Close                   0\n",
       "Total Trade Quantity    0\n",
       "Turnover (Lacs)         0\n",
       "dtype: int64"
      ]
     },
     "execution_count": 9,
     "metadata": {},
     "output_type": "execute_result"
    }
   ],
   "source": [
    "df.isnull().sum()"
   ]
  },
  {
   "cell_type": "code",
   "execution_count": 12,
   "id": "a83eea1f",
   "metadata": {
    "colab": {
     "base_uri": "https://localhost:8080/",
     "height": 409
    },
    "id": "a83eea1f",
    "outputId": "3b8b6d55-d777-480d-8755-c35a81968a62",
    "scrolled": false
   },
   "outputs": [
    {
     "data": {
      "image/png": "[encoded data removed]",
      "text/plain": [
       "<Figure size 1080x504 with 1 Axes>"
      ]
     },
     "metadata": {
      "needs_background": "light"
     },
     "output_type": "display_data"
    }
   ],
   "source": [
    "plt.figure(figsize=(15,7))\n",
    "plt.plot(df['Low'],color='g')\n",
    "plt.show()"
   ]
  },
  {
   "cell_type": "code",
   "execution_count": 14,
   "id": "d860fc97",
   "metadata": {},
   "outputs": [
    {
     "data": {
      "image/png": "[encoded data removed]",
      "text/plain": [
       "<Figure size 1080x504 with 1 Axes>"
      ]
     },
     "metadata": {
      "needs_background": "light"
     },
     "output_type": "display_data"
    }
   ],
   "source": [
    "plt.figure(figsize=(15,7))\n",
    "plt.plot(df['High'],color='r')\n",
    "plt.show()"
   ]
  },
  {
   "cell_type": "code",
   "execution_count": 11,
   "id": "2d156fd4",
   "metadata": {
    "colab": {
     "base_uri": "https://localhost:8080/",
     "height": 409
    },
    "id": "2d156fd4",
    "outputId": "5cdcc392-50d7-4cb4-ae2e-7ca8a99e792e"
   },
   "outputs": [
    {
     "data": {
      "image/png": "[encoded data removed]",
      "text/plain": [
       "<Figure size 1080x504 with 1 Axes>"
      ]
     },
     "metadata": {
      "needs_background": "light"
     },
     "output_type": "display_data"
    }
   ],
   "source": [
    "plt.figure(figsize=(15,7))\n",
    "plt.hist(df['Low'],color='g')\n",
    "plt.show()"
   ]
  },
  {
   "cell_type": "code",
   "execution_count": 13,
   "id": "c543be8b",
   "metadata": {
    "id": "c543be8b"
   },
   "outputs": [],
   "source": [
    "close_df=df['Low']"
   ]
  },
  {
   "cell_type": "code",
   "execution_count": 14,
   "id": "da47601b",
   "metadata": {
    "colab": {
     "base_uri": "https://localhost:8080/"
    },
    "id": "da47601b",
    "outputId": "9e5f35ff-86a4-440c-dc70-26c29479a756"
   },
   "outputs": [
    {
     "data": {
      "text/plain": [
       "0       230.20\n",
       "1       231.10\n",
       "2       232.50\n",
       "3       232.00\n",
       "4       230.75\n",
       "         ...  \n",
       "2030    112.00\n",
       "2031    117.10\n",
       "2032    120.25\n",
       "2033    120.25\n",
       "2034    121.05\n",
       "Name: Low, Length: 2035, dtype: float64"
      ]
     },
     "execution_count": 14,
     "metadata": {},
     "output_type": "execute_result"
    }
   ],
   "source": [
    "close_df"
   ]
  },
  {
   "cell_type": "markdown",
   "id": "3034315d",
   "metadata": {
    "id": "3034315d"
   },
   "source": [
    "# MIN MAX SCALER "
   ]
  },
  {
   "cell_type": "code",
   "execution_count": 15,
   "id": "f0dfb75f",
   "metadata": {
    "id": "f0dfb75f"
   },
   "outputs": [],
   "source": [
    "from sklearn.preprocessing import MinMaxScaler"
   ]
  },
  {
   "cell_type": "code",
   "execution_count": 16,
   "id": "71f98f34",
   "metadata": {
    "id": "71f98f34"
   },
   "outputs": [],
   "source": [
    "scaler=MinMaxScaler(feature_range=(0,1))"
   ]
  },
  {
   "cell_type": "code",
   "execution_count": 19,
   "id": "e0bd85b1",
   "metadata": {
    "id": "e0bd85b1"
   },
   "outputs": [],
   "source": [
    "df1_close=scaler.fit_transform(np.array(close_df).reshape(-1,1))"
   ]
  },
  {
   "cell_type": "code",
   "execution_count": 20,
   "id": "5624d261",
   "metadata": {
    "colab": {
     "base_uri": "https://localhost:8080/"
    },
    "id": "5624d261",
    "outputId": "4065789f-097f-4b11-9141-5cc0c1074907"
   },
   "outputs": [
    {
     "name": "stdout",
     "output_type": "stream",
     "text": [
      "HERE DATA IS BEING SET BETWEEN 0 AND 1\n",
      "---------------------------------------\n",
      "[[0.62156011]\n",
      " [0.6252845 ]\n",
      " [0.63107801]\n",
      " ...\n",
      " [0.16656321]\n",
      " [0.16656321]\n",
      " [0.16987378]]\n"
     ]
    }
   ],
   "source": [
    "print(\"HERE DATA IS BEING SET BETWEEN 0 AND 1\")\n",
    "print(\"---------------------------------------\")\n",
    "print(df1_close)"
   ]
  },
  {
   "cell_type": "markdown",
   "id": "9755b340",
   "metadata": {
    "id": "9755b340"
   },
   "source": [
    "# TRAIN-TEST SPLIT"
   ]
  },
  {
   "cell_type": "code",
   "execution_count": 21,
   "id": "a131f437",
   "metadata": {
    "id": "a131f437"
   },
   "outputs": [],
   "source": [
    "##splitting dataset into train and test split"
   ]
  },
  {
   "cell_type": "code",
   "execution_count": 22,
   "id": "dded8d3b",
   "metadata": {
    "id": "dded8d3b"
   },
   "outputs": [],
   "source": [
    "training_size=int(len(df1_close)*0.65)"
   ]
  },
  {
   "cell_type": "code",
   "execution_count": 23,
   "id": "df8984c3",
   "metadata": {
    "id": "df8984c3"
   },
   "outputs": [],
   "source": [
    "test_size=len(df1_close)-training_size"
   ]
  },
  {
   "cell_type": "code",
   "execution_count": 24,
   "id": "a854c0b7",
   "metadata": {
    "id": "a854c0b7"
   },
   "outputs": [],
   "source": [
    "train_data,test_data=df1_close[0:training_size,:],df1_close[training_size:len(df1_close),:1]"
   ]
  },
  {
   "cell_type": "code",
   "execution_count": 25,
   "id": "caa04282",
   "metadata": {
    "colab": {
     "base_uri": "https://localhost:8080/"
    },
    "id": "caa04282",
    "outputId": "90cde84a-77dd-4dfd-bd60-27b112c8f3c5"
   },
   "outputs": [
    {
     "name": "stdout",
     "output_type": "stream",
     "text": [
      "THE SHPAE OF RECORD :  1322 713\n"
     ]
    }
   ],
   "source": [
    "print(\"THE SHPAE OF RECORD : \",training_size,test_size)"
   ]
  },
  {
   "cell_type": "markdown",
   "id": "03656d9f",
   "metadata": {
    "id": "03656d9f"
   },
   "source": [
    "CONVERT ARRAY ELEMENTS TO DATASET MATRIX"
   ]
  },
  {
   "cell_type": "code",
   "execution_count": 33,
   "id": "7dbe0f2c",
   "metadata": {
    "id": "7dbe0f2c"
   },
   "outputs": [],
   "source": [
    "import numpy\n",
    "def create_dataset(dataset, time_step=1):\n",
    "    dataX, dataY = [], []\n",
    "    for i in range(len(dataset)-time_step-1):\n",
    "        a = dataset[i:(i+time_step), 0]   \n",
    "        dataX.append(a)\n",
    "        dataY.append(dataset[i + time_step, 0])\n",
    "    return numpy.array(dataX), numpy.array(dataY)"
   ]
  },
  {
   "cell_type": "code",
   "execution_count": 34,
   "id": "b42578fe",
   "metadata": {
    "id": "b42578fe"
   },
   "outputs": [],
   "source": [
    "# reshape into X=t,t+1,t+2,t+3 and Y=t+4\n",
    "time_step = 100\n",
    "X_train, y_train = create_dataset(train_data, time_step)\n",
    "X_test, ytest = create_dataset(test_data, time_step)"
   ]
  },
  {
   "cell_type": "code",
   "execution_count": 35,
   "id": "2esuPGQ_yabl",
   "metadata": {
    "colab": {
     "base_uri": "https://localhost:8080/"
    },
    "id": "2esuPGQ_yabl",
    "outputId": "32445d46-ba6d-4271-e5e2-68cc94197520"
   },
   "outputs": [
    {
     "name": "stdout",
     "output_type": "stream",
     "text": [
      "Shape of X train :  (1221, 100)\n"
     ]
    }
   ],
   "source": [
    "print(\"Shape of X train : \",X_train.shape)"
   ]
  },
  {
   "cell_type": "markdown",
   "id": "79878627",
   "metadata": {
    "id": "uoMxhdVtzqCI"
   },
   "source": [
    "# Reshape input to be [samples, time steps, features] which is required for LSTM"
   ]
  },
  {
   "cell_type": "code",
   "execution_count": 37,
   "id": "aHxDMllPzumm",
   "metadata": {
    "id": "aHxDMllPzumm"
   },
   "outputs": [],
   "source": [
    "X_train =X_train.reshape(X_train.shape[0],X_train.shape[1] , 1)\n",
    "X_test = X_test.reshape(X_test.shape[0],X_test.shape[1] , 1)"
   ]
  },
  {
   "cell_type": "code",
   "execution_count": 38,
   "id": "5L1Zg6JqzxOm",
   "metadata": {
    "id": "5L1Zg6JqzxOm"
   },
   "outputs": [],
   "source": [
    "### Create the Stacked LSTM model"
   ]
  },
  {
   "cell_type": "code",
   "execution_count": 39,
   "id": "pDLxpaxxzzRh",
   "metadata": {
    "id": "pDLxpaxxzzRh"
   },
   "outputs": [],
   "source": [
    "from tensorflow.keras.models import Sequential\n",
    "from tensorflow.keras.layers import Dense\n",
    "from tensorflow.keras.layers import LSTM"
   ]
  },
  {
   "cell_type": "markdown",
   "id": "e43dbcb6",
   "metadata": {
    "id": "rFzr9Fl9z0va"
   },
   "source": [
    "# We will be using a sequential model and adding the layers of the LSTM as said, in the above sentence. The first layer should be the time step in 1."
   ]
  },
  {
   "cell_type": "code",
   "execution_count": 41,
   "id": "x-guBF8dz4oI",
   "metadata": {
    "id": "x-guBF8dz4oI"
   },
   "outputs": [],
   "source": [
    "model=Sequential()\n",
    "model.add(LSTM(50,return_sequences=True,input_shape=(100,1)))\n",
    "model.add(LSTM(50,return_sequences=True))\n",
    "model.add(LSTM(50))\n",
    "model.add(Dense(1))\n",
    "model.compile(loss='mean_squared_error',optimizer='adam')"
   ]
  },
  {
   "cell_type": "markdown",
   "id": "03835332",
   "metadata": {
    "id": "WNM4fxhJz6fV"
   },
   "source": [
    "# SUMMARY"
   ]
  },
  {
   "cell_type": "code",
   "execution_count": 43,
   "id": "08q0YDdR0BRQ",
   "metadata": {
    "colab": {
     "base_uri": "https://localhost:8080/"
    },
    "id": "08q0YDdR0BRQ",
    "outputId": "061ac737-78ef-4cd9-c3a8-2c1550f25732"
   },
   "outputs": [
    {
     "name": "stdout",
     "output_type": "stream",
     "text": [
      "Model: \"sequential\"\n",
      "_________________________________________________________________\n",
      " Layer (type)                Output Shape              Param #   \n",
      "=================================================================\n",
      " lstm (LSTM)                 (None, 100, 50)           10400     \n",
      "                                                                 \n",
      " lstm_1 (LSTM)               (None, 100, 50)           20200     \n",
      "                                                                 \n",
      " lstm_2 (LSTM)               (None, 50)                20200     \n",
      "                                                                 \n",
      " dense (Dense)               (None, 1)                 51        \n",
      "                                                                 \n",
      "=================================================================\n",
      "Total params: 50,851\n",
      "Trainable params: 50,851\n",
      "Non-trainable params: 0\n",
      "_________________________________________________________________\n"
     ]
    }
   ],
   "source": [
    "model.summary()\n"
   ]
  },
  {
   "cell_type": "code",
   "execution_count": 44,
   "id": "CfoSnqJ20EuD",
   "metadata": {
    "colab": {
     "base_uri": "https://localhost:8080/"
    },
    "id": "CfoSnqJ20EuD",
    "outputId": "5c50fde1-87b6-485f-d22a-9522e14e5af0"
   },
   "outputs": [
    {
     "name": "stdout",
     "output_type": "stream",
     "text": [
      "Model: \"sequential\"\n",
      "_________________________________________________________________\n",
      " Layer (type)                Output Shape              Param #   \n",
      "=================================================================\n",
      " lstm (LSTM)                 (None, 100, 50)           10400     \n",
      "                                                                 \n",
      " lstm_1 (LSTM)               (None, 100, 50)           20200     \n",
      "                                                                 \n",
      " lstm_2 (LSTM)               (None, 50)                20200     \n",
      "                                                                 \n",
      " dense (Dense)               (None, 1)                 51        \n",
      "                                                                 \n",
      "=================================================================\n",
      "Total params: 50,851\n",
      "Trainable params: 50,851\n",
      "Non-trainable params: 0\n",
      "_________________________________________________________________\n"
     ]
    }
   ],
   "source": [
    "model.summary()"
   ]
  },
  {
   "cell_type": "markdown",
   "id": "5e4237cc",
   "metadata": {
    "id": "Jqo5CJA20Gn2"
   },
   "source": [
    "# Now the final part is to fit the X_train and the y_train."
   ]
  },
  {
   "cell_type": "code",
   "execution_count": 46,
   "id": "FQVjdGQ30LTF",
   "metadata": {
    "colab": {
     "base_uri": "https://localhost:8080/"
    },
    "id": "FQVjdGQ30LTF",
    "outputId": "f3ec0ffd-d6df-4c0a-ddbe-1c6ce8bdcb7d"
   },
   "outputs": [
    {
     "name": "stdout",
     "output_type": "stream",
     "text": [
      "Epoch 1/100\n",
      "20/20 [==============================] - 12s 290ms/step - loss: 0.0280 - val_loss: 0.0064\n",
      "Epoch 2/100\n",
      "20/20 [==============================] - 4s 217ms/step - loss: 0.0038 - val_loss: 0.0015\n",
      "Epoch 3/100\n",
      "20/20 [==============================] - 4s 218ms/step - loss: 0.0020 - val_loss: 0.0012\n",
      "Epoch 4/100\n",
      "20/20 [==============================] - 4s 218ms/step - loss: 0.0021 - val_loss: 0.0010\n",
      "Epoch 5/100\n",
      "20/20 [==============================] - 4s 216ms/step - loss: 0.0022 - val_loss: 0.0011\n",
      "Epoch 6/100\n",
      "20/20 [==============================] - 4s 222ms/step - loss: 0.0016 - val_loss: 9.1113e-04\n",
      "Epoch 7/100\n",
      "20/20 [==============================] - 4s 217ms/step - loss: 0.0015 - val_loss: 0.0010\n",
      "Epoch 8/100\n",
      "20/20 [==============================] - 4s 215ms/step - loss: 0.0015 - val_loss: 0.0011\n",
      "Epoch 9/100\n",
      "20/20 [==============================] - 4s 215ms/step - loss: 0.0014 - val_loss: 8.4376e-04\n",
      "Epoch 10/100\n",
      "20/20 [==============================] - 4s 215ms/step - loss: 0.0017 - val_loss: 0.0013\n",
      "Epoch 11/100\n",
      "20/20 [==============================] - 4s 216ms/step - loss: 0.0014 - val_loss: 9.0888e-04\n",
      "Epoch 12/100\n",
      "20/20 [==============================] - 4s 213ms/step - loss: 0.0012 - val_loss: 7.1816e-04\n",
      "Epoch 13/100\n",
      "20/20 [==============================] - 4s 215ms/step - loss: 0.0012 - val_loss: 9.9467e-04\n",
      "Epoch 14/100\n",
      "20/20 [==============================] - 4s 216ms/step - loss: 0.0012 - val_loss: 0.0014\n",
      "Epoch 15/100\n",
      "20/20 [==============================] - 4s 216ms/step - loss: 0.0015 - val_loss: 0.0013\n",
      "Epoch 16/100\n",
      "20/20 [==============================] - 4s 218ms/step - loss: 0.0012 - val_loss: 7.2937e-04\n",
      "Epoch 17/100\n",
      "20/20 [==============================] - 4s 219ms/step - loss: 0.0012 - val_loss: 8.9413e-04\n",
      "Epoch 18/100\n",
      "20/20 [==============================] - 4s 215ms/step - loss: 0.0010 - val_loss: 9.7564e-04\n",
      "Epoch 19/100\n",
      "20/20 [==============================] - 4s 218ms/step - loss: 0.0011 - val_loss: 8.5146e-04\n",
      "Epoch 20/100\n",
      "20/20 [==============================] - 4s 219ms/step - loss: 0.0010 - val_loss: 9.9864e-04\n",
      "Epoch 21/100\n",
      "20/20 [==============================] - 4s 219ms/step - loss: 9.5532e-04 - val_loss: 8.5276e-04\n",
      "Epoch 22/100\n",
      "20/20 [==============================] - 4s 217ms/step - loss: 9.0731e-04 - val_loss: 7.3488e-04\n",
      "Epoch 23/100\n",
      "20/20 [==============================] - 5s 227ms/step - loss: 9.8450e-04 - val_loss: 7.1947e-04\n",
      "Epoch 24/100\n",
      "20/20 [==============================] - 4s 225ms/step - loss: 8.8932e-04 - val_loss: 6.3317e-04\n",
      "Epoch 25/100\n",
      "20/20 [==============================] - 4s 220ms/step - loss: 0.0013 - val_loss: 5.9361e-04\n",
      "Epoch 26/100\n",
      "20/20 [==============================] - 4s 216ms/step - loss: 9.0737e-04 - val_loss: 7.1732e-04\n",
      "Epoch 27/100\n",
      "20/20 [==============================] - 4s 216ms/step - loss: 9.9026e-04 - val_loss: 7.3346e-04\n",
      "Epoch 28/100\n",
      "20/20 [==============================] - 4s 217ms/step - loss: 8.0558e-04 - val_loss: 7.6930e-04\n",
      "Epoch 29/100\n",
      "20/20 [==============================] - 4s 216ms/step - loss: 8.0402e-04 - val_loss: 9.1331e-04\n",
      "Epoch 30/100\n",
      "20/20 [==============================] - 4s 216ms/step - loss: 7.7831e-04 - val_loss: 6.2195e-04\n",
      "Epoch 31/100\n",
      "20/20 [==============================] - 4s 215ms/step - loss: 7.6232e-04 - val_loss: 9.1162e-04\n",
      "Epoch 32/100\n",
      "20/20 [==============================] - 4s 216ms/step - loss: 8.2876e-04 - val_loss: 9.3368e-04\n",
      "Epoch 33/100\n",
      "20/20 [==============================] - 4s 217ms/step - loss: 8.9615e-04 - val_loss: 7.8280e-04\n",
      "Epoch 34/100\n",
      "20/20 [==============================] - 4s 215ms/step - loss: 9.7743e-04 - val_loss: 5.4563e-04\n",
      "Epoch 35/100\n",
      "20/20 [==============================] - 4s 214ms/step - loss: 7.4523e-04 - val_loss: 6.8711e-04\n",
      "Epoch 36/100\n",
      "20/20 [==============================] - 4s 215ms/step - loss: 7.2016e-04 - val_loss: 9.4094e-04\n",
      "Epoch 37/100\n",
      "20/20 [==============================] - 4s 216ms/step - loss: 8.8847e-04 - val_loss: 8.1181e-04\n",
      "Epoch 38/100\n",
      "20/20 [==============================] - 4s 214ms/step - loss: 7.4566e-04 - val_loss: 8.1633e-04\n",
      "Epoch 39/100\n",
      "20/20 [==============================] - 4s 212ms/step - loss: 7.0724e-04 - val_loss: 8.5271e-04\n",
      "Epoch 40/100\n",
      "20/20 [==============================] - 4s 212ms/step - loss: 7.0488e-04 - val_loss: 6.0992e-04\n",
      "Epoch 41/100\n",
      "20/20 [==============================] - 4s 212ms/step - loss: 7.4952e-04 - val_loss: 5.5062e-04\n",
      "Epoch 42/100\n",
      "20/20 [==============================] - 4s 210ms/step - loss: 8.9102e-04 - val_loss: 5.9336e-04\n",
      "Epoch 43/100\n",
      "20/20 [==============================] - 4s 211ms/step - loss: 7.2695e-04 - val_loss: 6.8266e-04\n",
      "Epoch 44/100\n",
      "20/20 [==============================] - 4s 214ms/step - loss: 6.3527e-04 - val_loss: 9.6608e-04\n",
      "Epoch 45/100\n",
      "20/20 [==============================] - 4s 214ms/step - loss: 0.0011 - val_loss: 0.0010\n",
      "Epoch 46/100\n",
      "20/20 [==============================] - 4s 213ms/step - loss: 6.4684e-04 - val_loss: 6.1696e-04\n",
      "Epoch 47/100\n",
      "20/20 [==============================] - 4s 214ms/step - loss: 6.3125e-04 - val_loss: 5.4450e-04\n",
      "Epoch 48/100\n",
      "20/20 [==============================] - 4s 220ms/step - loss: 6.6630e-04 - val_loss: 6.1522e-04\n",
      "Epoch 49/100\n",
      "20/20 [==============================] - 4s 214ms/step - loss: 6.8959e-04 - val_loss: 8.0894e-04\n",
      "Epoch 50/100\n",
      "20/20 [==============================] - 4s 213ms/step - loss: 6.1690e-04 - val_loss: 7.0653e-04\n",
      "Epoch 51/100\n",
      "20/20 [==============================] - 4s 216ms/step - loss: 7.1628e-04 - val_loss: 6.3204e-04\n",
      "Epoch 52/100\n",
      "20/20 [==============================] - 4s 218ms/step - loss: 6.2976e-04 - val_loss: 5.9877e-04\n",
      "Epoch 53/100\n",
      "20/20 [==============================] - 4s 216ms/step - loss: 6.1557e-04 - val_loss: 7.0714e-04\n",
      "Epoch 54/100\n",
      "20/20 [==============================] - 4s 220ms/step - loss: 5.7937e-04 - val_loss: 5.7879e-04\n",
      "Epoch 55/100\n",
      "20/20 [==============================] - 4s 215ms/step - loss: 6.1481e-04 - val_loss: 7.2983e-04\n",
      "Epoch 56/100\n",
      "20/20 [==============================] - 4s 218ms/step - loss: 6.8494e-04 - val_loss: 6.9473e-04\n",
      "Epoch 57/100\n",
      "20/20 [==============================] - 4s 220ms/step - loss: 5.8145e-04 - val_loss: 6.0843e-04\n",
      "Epoch 58/100\n",
      "20/20 [==============================] - 4s 221ms/step - loss: 6.3634e-04 - val_loss: 4.7845e-04\n",
      "Epoch 59/100\n",
      "20/20 [==============================] - 4s 219ms/step - loss: 6.8393e-04 - val_loss: 9.1278e-04\n",
      "Epoch 60/100\n",
      "20/20 [==============================] - 4s 224ms/step - loss: 6.4613e-04 - val_loss: 7.1903e-04\n",
      "Epoch 61/100\n",
      "20/20 [==============================] - 4s 217ms/step - loss: 6.0937e-04 - val_loss: 4.2167e-04\n",
      "Epoch 62/100\n",
      "20/20 [==============================] - 4s 217ms/step - loss: 5.4341e-04 - val_loss: 5.1764e-04\n",
      "Epoch 63/100\n",
      "20/20 [==============================] - 4s 217ms/step - loss: 5.3877e-04 - val_loss: 4.2443e-04\n",
      "Epoch 64/100\n",
      "20/20 [==============================] - 4s 217ms/step - loss: 5.3739e-04 - val_loss: 4.9782e-04\n",
      "Epoch 65/100\n",
      "20/20 [==============================] - 4s 222ms/step - loss: 5.1703e-04 - val_loss: 7.3156e-04\n",
      "Epoch 66/100\n",
      "20/20 [==============================] - 4s 220ms/step - loss: 5.1006e-04 - val_loss: 5.7696e-04\n",
      "Epoch 67/100\n",
      "20/20 [==============================] - 4s 218ms/step - loss: 5.4651e-04 - val_loss: 4.2510e-04\n",
      "Epoch 68/100\n",
      "20/20 [==============================] - 4s 218ms/step - loss: 8.7601e-04 - val_loss: 5.2506e-04\n",
      "Epoch 69/100\n",
      "20/20 [==============================] - 4s 220ms/step - loss: 5.1548e-04 - val_loss: 6.6421e-04\n",
      "Epoch 70/100\n",
      "20/20 [==============================] - 4s 215ms/step - loss: 4.8374e-04 - val_loss: 5.1501e-04\n",
      "Epoch 71/100\n",
      "20/20 [==============================] - 4s 222ms/step - loss: 5.2809e-04 - val_loss: 8.5868e-04\n",
      "Epoch 72/100\n",
      "20/20 [==============================] - 4s 218ms/step - loss: 6.3464e-04 - val_loss: 4.9311e-04\n",
      "Epoch 73/100\n",
      "20/20 [==============================] - 4s 217ms/step - loss: 8.4707e-04 - val_loss: 4.7476e-04\n",
      "Epoch 74/100\n",
      "20/20 [==============================] - 4s 216ms/step - loss: 5.4814e-04 - val_loss: 4.2261e-04\n",
      "Epoch 75/100\n",
      "20/20 [==============================] - 4s 218ms/step - loss: 4.7955e-04 - val_loss: 4.2489e-04\n",
      "Epoch 76/100\n",
      "20/20 [==============================] - 4s 214ms/step - loss: 4.3325e-04 - val_loss: 6.5165e-04\n",
      "Epoch 77/100\n",
      "20/20 [==============================] - 4s 217ms/step - loss: 4.7832e-04 - val_loss: 4.4301e-04\n",
      "Epoch 78/100\n",
      "20/20 [==============================] - 4s 216ms/step - loss: 4.5452e-04 - val_loss: 4.3981e-04\n",
      "Epoch 79/100\n",
      "20/20 [==============================] - 4s 216ms/step - loss: 4.6015e-04 - val_loss: 3.3000e-04\n",
      "Epoch 80/100\n",
      "20/20 [==============================] - 4s 220ms/step - loss: 4.2518e-04 - val_loss: 4.4762e-04\n",
      "Epoch 81/100\n",
      "20/20 [==============================] - 4s 215ms/step - loss: 4.3105e-04 - val_loss: 5.3047e-04\n",
      "Epoch 82/100\n",
      "20/20 [==============================] - 4s 217ms/step - loss: 4.5975e-04 - val_loss: 4.2509e-04\n",
      "Epoch 83/100\n",
      "20/20 [==============================] - 4s 215ms/step - loss: 3.8059e-04 - val_loss: 3.7594e-04\n",
      "Epoch 84/100\n",
      "20/20 [==============================] - 4s 215ms/step - loss: 4.0083e-04 - val_loss: 4.2959e-04\n",
      "Epoch 85/100\n",
      "20/20 [==============================] - 4s 218ms/step - loss: 3.5834e-04 - val_loss: 3.9037e-04\n",
      "Epoch 86/100\n",
      "20/20 [==============================] - 4s 220ms/step - loss: 3.7785e-04 - val_loss: 4.4401e-04\n",
      "Epoch 87/100\n",
      "20/20 [==============================] - 4s 219ms/step - loss: 4.2617e-04 - val_loss: 4.2060e-04\n",
      "Epoch 88/100\n",
      "20/20 [==============================] - 4s 214ms/step - loss: 3.5353e-04 - val_loss: 4.3330e-04\n",
      "Epoch 89/100\n",
      "20/20 [==============================] - 4s 216ms/step - loss: 3.3951e-04 - val_loss: 3.6238e-04\n",
      "Epoch 90/100\n",
      "20/20 [==============================] - 4s 214ms/step - loss: 3.3590e-04 - val_loss: 4.8061e-04\n",
      "Epoch 91/100\n",
      "20/20 [==============================] - 4s 215ms/step - loss: 3.6173e-04 - val_loss: 2.9430e-04\n",
      "Epoch 92/100\n",
      "20/20 [==============================] - 4s 217ms/step - loss: 3.1790e-04 - val_loss: 4.1377e-04\n",
      "Epoch 93/100\n",
      "20/20 [==============================] - 5s 226ms/step - loss: 3.2255e-04 - val_loss: 2.8823e-04\n",
      "Epoch 94/100\n",
      "20/20 [==============================] - 4s 220ms/step - loss: 3.6784e-04 - val_loss: 4.3848e-04\n",
      "Epoch 95/100\n",
      "20/20 [==============================] - 4s 218ms/step - loss: 3.4436e-04 - val_loss: 3.4472e-04\n",
      "Epoch 96/100\n",
      "20/20 [==============================] - 4s 225ms/step - loss: 2.9815e-04 - val_loss: 2.9883e-04\n",
      "Epoch 97/100\n",
      "20/20 [==============================] - 4s 218ms/step - loss: 2.9613e-04 - val_loss: 2.7027e-04\n",
      "Epoch 98/100\n",
      "20/20 [==============================] - 4s 217ms/step - loss: 3.3454e-04 - val_loss: 3.5424e-04\n",
      "Epoch 99/100\n",
      "20/20 [==============================] - 4s 217ms/step - loss: 3.0556e-04 - val_loss: 4.4075e-04\n",
      "Epoch 100/100\n",
      "20/20 [==============================] - 4s 225ms/step - loss: 3.0404e-04 - val_loss: 4.5490e-04\n"
     ]
    },
    {
     "data": {
      "text/plain": [
       "<keras.callbacks.History at 0x7f7cc5cf1090>"
      ]
     },
     "execution_count": 46,
     "metadata": {},
     "output_type": "execute_result"
    }
   ],
   "source": [
    "model.fit(X_train,y_train,validation_data=(X_test,ytest),epochs=100,batch_size=64,verbose=1)"
   ]
  },
  {
   "cell_type": "code",
   "execution_count": 47,
   "id": "dAGCjhfh0Mt3",
   "metadata": {
    "id": "dAGCjhfh0Mt3"
   },
   "outputs": [],
   "source": [
    "import tensorflow as tf"
   ]
  },
  {
   "cell_type": "markdown",
   "id": "4671c3cd",
   "metadata": {
    "id": "iCOHNRny0Qzy"
   },
   "source": [
    "# Prediction\n",
    "\n",
    "Predict both the X_train and the X_test, now let’s scaler inverse transform because I want to see the root mean square performance."
   ]
  },
  {
   "cell_type": "code",
   "execution_count": 50,
   "id": "Z5t0hH7g3SmY",
   "metadata": {
    "id": "Z5t0hH7g3SmY"
   },
   "outputs": [],
   "source": [
    "train_predict=model.predict(X_train)\n",
    "test_predict=model.predict(X_test)\n",
    "train_predict=scaler.inverse_transform(train_predict)\n",
    "test_predict=scaler.inverse_transform(test_predict)"
   ]
  },
  {
   "cell_type": "code",
   "execution_count": 51,
   "id": "4mvPLe9O3Yrv",
   "metadata": {
    "colab": {
     "base_uri": "https://localhost:8080/"
    },
    "id": "4mvPLe9O3Yrv",
    "outputId": "0fca08e6-c1e4-4639-e279-4905754e2fad"
   },
   "outputs": [
    {
     "data": {
      "text/plain": [
       "164.19261746078712"
      ]
     },
     "execution_count": 51,
     "metadata": {},
     "output_type": "execute_result"
    }
   ],
   "source": [
    "import math\n",
    "from sklearn.metrics import mean_squared_error\n",
    "math.sqrt(mean_squared_error(y_train,train_predict))"
   ]
  },
  {
   "cell_type": "code",
   "execution_count": 52,
   "id": "mkMWZlWc3bn3",
   "metadata": {
    "colab": {
     "base_uri": "https://localhost:8080/"
    },
    "id": "mkMWZlWc3bn3",
    "outputId": "60778d0b-fae2-4caa-d9aa-a57f13222da1"
   },
   "outputs": [
    {
     "data": {
      "text/plain": [
       "116.25307956354976"
      ]
     },
     "execution_count": 52,
     "metadata": {},
     "output_type": "execute_result"
    }
   ],
   "source": [
    "math.sqrt(mean_squared_error(ytest,test_predict))"
   ]
  },
  {
   "cell_type": "markdown",
   "id": "4b337a42",
   "metadata": {
    "id": "yR6Xyh4C3h-l"
   },
   "source": [
    "# Plotting \n",
    "# Shift train predictions for plotting"
   ]
  },
  {
   "cell_type": "code",
   "execution_count": 54,
   "id": "8Hry0TGW3mHP",
   "metadata": {
    "id": "8Hry0TGW3mHP"
   },
   "outputs": [],
   "source": [
    "look_back=100\n",
    "trainPredictPlot = numpy.empty_like(df1_close)\n",
    "trainPredictPlot[:, :] = np.nan\n",
    "trainPredictPlot[look_back:len(train_predict)+look_back, :] = train_predict"
   ]
  },
  {
   "cell_type": "markdown",
   "id": "21f3116c",
   "metadata": {
    "id": "RSAMwgCL3qgW"
   },
   "source": [
    "# Shift test predictions for plotting"
   ]
  },
  {
   "cell_type": "code",
   "execution_count": 56,
   "id": "X5neNVwV3tOK",
   "metadata": {
    "id": "X5neNVwV3tOK"
   },
   "outputs": [],
   "source": [
    "testPredictPlot = numpy.empty_like(df1_close)\n",
    "testPredictPlot[:, :] = numpy.nan\n",
    "testPredictPlot[len(train_predict)+(look_back*2)+1:len(df1_close)-1, :] = test_predict"
   ]
  },
  {
   "cell_type": "markdown",
   "id": "623d2f87",
   "metadata": {
    "id": "cf6l8F2K3vpC"
   },
   "source": [
    "# Plot baseline and predictions"
   ]
  },
  {
   "cell_type": "code",
   "execution_count": 62,
   "id": "dJdAZfk43xzQ",
   "metadata": {
    "colab": {
     "base_uri": "https://localhost:8080/",
     "height": 300
    },
    "id": "dJdAZfk43xzQ",
    "outputId": "d0e73d71-e264-45e6-9fc4-960b4641c6a8"
   },
   "outputs": [
    {
     "data": {
      "text/plain": [
       "<Figure size 720x1440 with 0 Axes>"
      ]
     },
     "execution_count": 62,
     "metadata": {},
     "output_type": "execute_result"
    },
    {
     "data": {
      "image/png": "[encoded data removed]",
      "text/plain": [
       "<Figure size 432x288 with 1 Axes>"
      ]
     },
     "metadata": {
      "needs_background": "light"
     },
     "output_type": "display_data"
    },
    {
     "data": {
      "text/plain": [
       "<Figure size 720x1440 with 0 Axes>"
      ]
     },
     "metadata": {},
     "output_type": "display_data"
    }
   ],
   "source": [
    "plt.plot(scaler.inverse_transform(df1_close))\n",
    "plt.figure(figsize=(10,20))"
   ]
  },
  {
   "cell_type": "code",
   "execution_count": 60,
   "id": "doTM9fFY3zxA",
   "metadata": {
    "colab": {
     "base_uri": "https://localhost:8080/",
     "height": 265
    },
    "id": "doTM9fFY3zxA",
    "outputId": "97a98e98-85a3-49d1-e29e-cc8005630721"
   },
   "outputs": [
    {
     "data": {
      "image/png": "[encoded data removed]",
      "text/plain": [
       "<Figure size 432x288 with 1 Axes>"
      ]
     },
     "metadata": {
      "needs_background": "light"
     },
     "output_type": "display_data"
    }
   ],
   "source": [
    "plt.plot(testPredictPlot)\n",
    "plt.show()"
   ]
  },
  {
   "cell_type": "code",
   "execution_count": 61,
   "id": "Yh5pIZeQ4Qik",
   "metadata": {
    "colab": {
     "base_uri": "https://localhost:8080/",
     "height": 282
    },
    "id": "Yh5pIZeQ4Qik",
    "outputId": "71484eca-4ffe-4cce-e674-aadd6fb8767a"
   },
   "outputs": [
    {
     "data": {
      "text/plain": [
       "[<matplotlib.lines.Line2D at 0x7f7cc1283410>]"
      ]
     },
     "execution_count": 61,
     "metadata": {},
     "output_type": "execute_result"
    },
    {
     "data": {
      "image/png": "[encoded data removed]",
      "text/plain": [
       "<Figure size 432x288 with 1 Axes>"
      ]
     },
     "metadata": {
      "needs_background": "light"
     },
     "output_type": "display_data"
    }
   ],
   "source": [
    "plt.plot(trainPredictPlot)"
   ]
  },
  {
   "cell_type": "code",
   "execution_count": 63,
   "id": "IJxwWqEx4UEZ",
   "metadata": {
    "id": "IJxwWqEx4UEZ"
   },
   "outputs": [],
   "source": [
    "# Here the time step is 100, Whatever the values in train predict and test predict.Don’t forget to plot the inverse of scaler transform.\n",
    "\n",
    "# Green indicates the Predicted Data\n",
    "\n",
    "# Blue indicates the Complete Data\n",
    "\n",
    "# Orange indicates the Train Data"
   ]
  },
  {
   "cell_type": "markdown",
   "id": "e697ef98",
   "metadata": {
    "id": "XVpWReqL4omB"
   },
   "source": [
    "# Predicting Stock Price For Next 30 Days"
   ]
  },
  {
   "cell_type": "code",
   "execution_count": 65,
   "id": "GBjhCuFC4qhY",
   "metadata": {
    "colab": {
     "base_uri": "https://localhost:8080/"
    },
    "id": "GBjhCuFC4qhY",
    "outputId": "078b3d49-5a61-4f06-9865-b11321218553"
   },
   "outputs": [
    {
     "data": {
      "text/plain": [
       "713"
      ]
     },
     "execution_count": 65,
     "metadata": {},
     "output_type": "execute_result"
    }
   ],
   "source": [
    "len(test_data)"
   ]
  },
  {
   "cell_type": "code",
   "execution_count": 66,
   "id": "58CtV2Ye4rmK",
   "metadata": {
    "colab": {
     "base_uri": "https://localhost:8080/"
    },
    "id": "58CtV2Ye4rmK",
    "outputId": "4c55da59-4fd3-4be0-a9fd-24f155a1ffa4"
   },
   "outputs": [
    {
     "data": {
      "text/plain": [
       "(1, 100)"
      ]
     },
     "execution_count": 66,
     "metadata": {},
     "output_type": "execute_result"
    }
   ],
   "source": [
    "x_input=test_data[613:].reshape(1,-1)\n",
    "x_input.shape"
   ]
  },
  {
   "cell_type": "code",
   "execution_count": 67,
   "id": "_tIa5v2j4tZK",
   "metadata": {
    "id": "_tIa5v2j4tZK"
   },
   "outputs": [],
   "source": [
    "temp_input=list(x_input)\n",
    "temp_input=temp_input[0].tolist()"
   ]
  },
  {
   "cell_type": "markdown",
   "id": "0a0c6a3a",
   "metadata": {
    "id": "ZZBxgd0E4vZs"
   },
   "source": [
    "# Demonstrate prediction for next 10 days"
   ]
  },
  {
   "cell_type": "code",
   "execution_count": 69,
   "id": "yhUf0jhm4zn1",
   "metadata": {
    "colab": {
     "base_uri": "https://localhost:8080/"
    },
    "id": "yhUf0jhm4zn1",
    "outputId": "6865a7b6-0fc4-4e29-b034-7178ed3dd6b2"
   },
   "outputs": [
    {
     "name": "stdout",
     "output_type": "stream",
     "text": [
      "[0.17327002]\n",
      "101\n",
      "1 day input [0.13945789 0.13904407 0.13738879 0.13490586 0.14214773 0.13656114\n",
      " 0.12849162 0.12456031 0.09724809 0.1127664  0.14959652 0.14111318\n",
      " 0.15311401 0.1452514  0.14607904 0.16552866 0.17835713 0.18290917\n",
      " 0.19573764 0.19449617 0.18270226 0.18415063 0.18704738 0.17835713\n",
      " 0.18208152 0.18435754 0.17794331 0.16759777 0.19573764 0.18849576\n",
      " 0.19325471 0.19966894 0.1988413  0.20153114 0.2007035  0.19925512\n",
      " 0.19180633 0.20028968 0.21125595 0.21249741 0.20691082 0.22056694\n",
      " 0.21146286 0.20546245 0.19490999 0.17877095 0.17877095 0.17090834\n",
      " 0.16201117 0.17049452 0.174012   0.17856404 0.17732257 0.16511484\n",
      " 0.16470101 0.16987378 0.17380509 0.1721498  0.17173598 0.17794331\n",
      " 0.18001241 0.1874612  0.19325471 0.18663356 0.17421891 0.17711566\n",
      " 0.17318436 0.17380509 0.1663563  0.14938961 0.15187254 0.15352783\n",
      " 0.15145872 0.14649286 0.1491827  0.13242293 0.12849162 0.11793917\n",
      " 0.11628388 0.12290503 0.12725016 0.13490586 0.13345748 0.13242293\n",
      " 0.13056073 0.13242293 0.13138837 0.13987172 0.14938961 0.1568384\n",
      " 0.15145872 0.14318229 0.13449203 0.15394165 0.13242293 0.15352783\n",
      " 0.16656321 0.16656321 0.16987378 0.17327002]\n",
      "1 day output [[0.17938636]]\n",
      "2 day input [0.13904407 0.13738879 0.13490586 0.14214773 0.13656114 0.12849162\n",
      " 0.12456031 0.09724809 0.1127664  0.14959652 0.14111318 0.15311401\n",
      " 0.1452514  0.14607904 0.16552866 0.17835713 0.18290917 0.19573764\n",
      " 0.19449617 0.18270226 0.18415063 0.18704738 0.17835713 0.18208152\n",
      " 0.18435754 0.17794331 0.16759777 0.19573764 0.18849576 0.19325471\n",
      " 0.19966894 0.1988413  0.20153114 0.2007035  0.19925512 0.19180633\n",
      " 0.20028968 0.21125595 0.21249741 0.20691082 0.22056694 0.21146286\n",
      " 0.20546245 0.19490999 0.17877095 0.17877095 0.17090834 0.16201117\n",
      " 0.17049452 0.174012   0.17856404 0.17732257 0.16511484 0.16470101\n",
      " 0.16987378 0.17380509 0.1721498  0.17173598 0.17794331 0.18001241\n",
      " 0.1874612  0.19325471 0.18663356 0.17421891 0.17711566 0.17318436\n",
      " 0.17380509 0.1663563  0.14938961 0.15187254 0.15352783 0.15145872\n",
      " 0.14649286 0.1491827  0.13242293 0.12849162 0.11793917 0.11628388\n",
      " 0.12290503 0.12725016 0.13490586 0.13345748 0.13242293 0.13056073\n",
      " 0.13242293 0.13138837 0.13987172 0.14938961 0.1568384  0.15145872\n",
      " 0.14318229 0.13449203 0.15394165 0.13242293 0.15352783 0.16656321\n",
      " 0.16656321 0.16987378 0.17327002 0.17938636]\n",
      "2 day output [[0.18436906]]\n",
      "3 day input [0.13738879 0.13490586 0.14214773 0.13656114 0.12849162 0.12456031\n",
      " 0.09724809 0.1127664  0.14959652 0.14111318 0.15311401 0.1452514\n",
      " 0.14607904 0.16552866 0.17835713 0.18290917 0.19573764 0.19449617\n",
      " 0.18270226 0.18415063 0.18704738 0.17835713 0.18208152 0.18435754\n",
      " 0.17794331 0.16759777 0.19573764 0.18849576 0.19325471 0.19966894\n",
      " 0.1988413  0.20153114 0.2007035  0.19925512 0.19180633 0.20028968\n",
      " 0.21125595 0.21249741 0.20691082 0.22056694 0.21146286 0.20546245\n",
      " 0.19490999 0.17877095 0.17877095 0.17090834 0.16201117 0.17049452\n",
      " 0.174012   0.17856404 0.17732257 0.16511484 0.16470101 0.16987378\n",
      " 0.17380509 0.1721498  0.17173598 0.17794331 0.18001241 0.1874612\n",
      " 0.19325471 0.18663356 0.17421891 0.17711566 0.17318436 0.17380509\n",
      " 0.1663563  0.14938961 0.15187254 0.15352783 0.15145872 0.14649286\n",
      " 0.1491827  0.13242293 0.12849162 0.11793917 0.11628388 0.12290503\n",
      " 0.12725016 0.13490586 0.13345748 0.13242293 0.13056073 0.13242293\n",
      " 0.13138837 0.13987172 0.14938961 0.1568384  0.15145872 0.14318229\n",
      " 0.13449203 0.15394165 0.13242293 0.15352783 0.16656321 0.16656321\n",
      " 0.16987378 0.17327002 0.17938636 0.18436906]\n",
      "3 day output [[0.18859906]]\n",
      "4 day input [0.13490586 0.14214773 0.13656114 0.12849162 0.12456031 0.09724809\n",
      " 0.1127664  0.14959652 0.14111318 0.15311401 0.1452514  0.14607904\n",
      " 0.16552866 0.17835713 0.18290917 0.19573764 0.19449617 0.18270226\n",
      " 0.18415063 0.18704738 0.17835713 0.18208152 0.18435754 0.17794331\n",
      " 0.16759777 0.19573764 0.18849576 0.19325471 0.19966894 0.1988413\n",
      " 0.20153114 0.2007035  0.19925512 0.19180633 0.20028968 0.21125595\n",
      " 0.21249741 0.20691082 0.22056694 0.21146286 0.20546245 0.19490999\n",
      " 0.17877095 0.17877095 0.17090834 0.16201117 0.17049452 0.174012\n",
      " 0.17856404 0.17732257 0.16511484 0.16470101 0.16987378 0.17380509\n",
      " 0.1721498  0.17173598 0.17794331 0.18001241 0.1874612  0.19325471\n",
      " 0.18663356 0.17421891 0.17711566 0.17318436 0.17380509 0.1663563\n",
      " 0.14938961 0.15187254 0.15352783 0.15145872 0.14649286 0.1491827\n",
      " 0.13242293 0.12849162 0.11793917 0.11628388 0.12290503 0.12725016\n",
      " 0.13490586 0.13345748 0.13242293 0.13056073 0.13242293 0.13138837\n",
      " 0.13987172 0.14938961 0.1568384  0.15145872 0.14318229 0.13449203\n",
      " 0.15394165 0.13242293 0.15352783 0.16656321 0.16656321 0.16987378\n",
      " 0.17327002 0.17938636 0.18436906 0.18859906]\n",
      "4 day output [[0.19237578]]\n",
      "5 day input [0.14214773 0.13656114 0.12849162 0.12456031 0.09724809 0.1127664\n",
      " 0.14959652 0.14111318 0.15311401 0.1452514  0.14607904 0.16552866\n",
      " 0.17835713 0.18290917 0.19573764 0.19449617 0.18270226 0.18415063\n",
      " 0.18704738 0.17835713 0.18208152 0.18435754 0.17794331 0.16759777\n",
      " 0.19573764 0.18849576 0.19325471 0.19966894 0.1988413  0.20153114\n",
      " 0.2007035  0.19925512 0.19180633 0.20028968 0.21125595 0.21249741\n",
      " 0.20691082 0.22056694 0.21146286 0.20546245 0.19490999 0.17877095\n",
      " 0.17877095 0.17090834 0.16201117 0.17049452 0.174012   0.17856404\n",
      " 0.17732257 0.16511484 0.16470101 0.16987378 0.17380509 0.1721498\n",
      " 0.17173598 0.17794331 0.18001241 0.1874612  0.19325471 0.18663356\n",
      " 0.17421891 0.17711566 0.17318436 0.17380509 0.1663563  0.14938961\n",
      " 0.15187254 0.15352783 0.15145872 0.14649286 0.1491827  0.13242293\n",
      " 0.12849162 0.11793917 0.11628388 0.12290503 0.12725016 0.13490586\n",
      " 0.13345748 0.13242293 0.13056073 0.13242293 0.13138837 0.13987172\n",
      " 0.14938961 0.1568384  0.15145872 0.14318229 0.13449203 0.15394165\n",
      " 0.13242293 0.15352783 0.16656321 0.16656321 0.16987378 0.17327002\n",
      " 0.17938636 0.18436906 0.18859906 0.19237578]\n",
      "5 day output [[0.19586095]]\n",
      "6 day input [0.13656114 0.12849162 0.12456031 0.09724809 0.1127664  0.14959652\n",
      " 0.14111318 0.15311401 0.1452514  0.14607904 0.16552866 0.17835713\n",
      " 0.18290917 0.19573764 0.19449617 0.18270226 0.18415063 0.18704738\n",
      " 0.17835713 0.18208152 0.18435754 0.17794331 0.16759777 0.19573764\n",
      " 0.18849576 0.19325471 0.19966894 0.1988413  0.20153114 0.2007035\n",
      " 0.19925512 0.19180633 0.20028968 0.21125595 0.21249741 0.20691082\n",
      " 0.22056694 0.21146286 0.20546245 0.19490999 0.17877095 0.17877095\n",
      " 0.17090834 0.16201117 0.17049452 0.174012   0.17856404 0.17732257\n",
      " 0.16511484 0.16470101 0.16987378 0.17380509 0.1721498  0.17173598\n",
      " 0.17794331 0.18001241 0.1874612  0.19325471 0.18663356 0.17421891\n",
      " 0.17711566 0.17318436 0.17380509 0.1663563  0.14938961 0.15187254\n",
      " 0.15352783 0.15145872 0.14649286 0.1491827  0.13242293 0.12849162\n",
      " 0.11793917 0.11628388 0.12290503 0.12725016 0.13490586 0.13345748\n",
      " 0.13242293 0.13056073 0.13242293 0.13138837 0.13987172 0.14938961\n",
      " 0.1568384  0.15145872 0.14318229 0.13449203 0.15394165 0.13242293\n",
      " 0.15352783 0.16656321 0.16656321 0.16987378 0.17327002 0.17938636\n",
      " 0.18436906 0.18859906 0.19237578 0.19586095]\n",
      "6 day output [[0.19912545]]\n",
      "7 day input [0.12849162 0.12456031 0.09724809 0.1127664  0.14959652 0.14111318\n",
      " 0.15311401 0.1452514  0.14607904 0.16552866 0.17835713 0.18290917\n",
      " 0.19573764 0.19449617 0.18270226 0.18415063 0.18704738 0.17835713\n",
      " 0.18208152 0.18435754 0.17794331 0.16759777 0.19573764 0.18849576\n",
      " 0.19325471 0.19966894 0.1988413  0.20153114 0.2007035  0.19925512\n",
      " 0.19180633 0.20028968 0.21125595 0.21249741 0.20691082 0.22056694\n",
      " 0.21146286 0.20546245 0.19490999 0.17877095 0.17877095 0.17090834\n",
      " 0.16201117 0.17049452 0.174012   0.17856404 0.17732257 0.16511484\n",
      " 0.16470101 0.16987378 0.17380509 0.1721498  0.17173598 0.17794331\n",
      " 0.18001241 0.1874612  0.19325471 0.18663356 0.17421891 0.17711566\n",
      " 0.17318436 0.17380509 0.1663563  0.14938961 0.15187254 0.15352783\n",
      " 0.15145872 0.14649286 0.1491827  0.13242293 0.12849162 0.11793917\n",
      " 0.11628388 0.12290503 0.12725016 0.13490586 0.13345748 0.13242293\n",
      " 0.13056073 0.13242293 0.13138837 0.13987172 0.14938961 0.1568384\n",
      " 0.15145872 0.14318229 0.13449203 0.15394165 0.13242293 0.15352783\n",
      " 0.16656321 0.16656321 0.16987378 0.17327002 0.17938636 0.18436906\n",
      " 0.18859906 0.19237578 0.19586095 0.19912545]\n",
      "7 day output [[0.2022006]]\n",
      "8 day input [0.12456031 0.09724809 0.1127664  0.14959652 0.14111318 0.15311401\n",
      " 0.1452514  0.14607904 0.16552866 0.17835713 0.18290917 0.19573764\n",
      " 0.19449617 0.18270226 0.18415063 0.18704738 0.17835713 0.18208152\n",
      " 0.18435754 0.17794331 0.16759777 0.19573764 0.18849576 0.19325471\n",
      " 0.19966894 0.1988413  0.20153114 0.2007035  0.19925512 0.19180633\n",
      " 0.20028968 0.21125595 0.21249741 0.20691082 0.22056694 0.21146286\n",
      " 0.20546245 0.19490999 0.17877095 0.17877095 0.17090834 0.16201117\n",
      " 0.17049452 0.174012   0.17856404 0.17732257 0.16511484 0.16470101\n",
      " 0.16987378 0.17380509 0.1721498  0.17173598 0.17794331 0.18001241\n",
      " 0.1874612  0.19325471 0.18663356 0.17421891 0.17711566 0.17318436\n",
      " 0.17380509 0.1663563  0.14938961 0.15187254 0.15352783 0.15145872\n",
      " 0.14649286 0.1491827  0.13242293 0.12849162 0.11793917 0.11628388\n",
      " 0.12290503 0.12725016 0.13490586 0.13345748 0.13242293 0.13056073\n",
      " 0.13242293 0.13138837 0.13987172 0.14938961 0.1568384  0.15145872\n",
      " 0.14318229 0.13449203 0.15394165 0.13242293 0.15352783 0.16656321\n",
      " 0.16656321 0.16987378 0.17327002 0.17938636 0.18436906 0.18859906\n",
      " 0.19237578 0.19586095 0.19912545 0.20220061]\n",
      "8 day output [[0.20510735]]\n",
      "9 day input [0.09724809 0.1127664  0.14959652 0.14111318 0.15311401 0.1452514\n",
      " 0.14607904 0.16552866 0.17835713 0.18290917 0.19573764 0.19449617\n",
      " 0.18270226 0.18415063 0.18704738 0.17835713 0.18208152 0.18435754\n",
      " 0.17794331 0.16759777 0.19573764 0.18849576 0.19325471 0.19966894\n",
      " 0.1988413  0.20153114 0.2007035  0.19925512 0.19180633 0.20028968\n",
      " 0.21125595 0.21249741 0.20691082 0.22056694 0.21146286 0.20546245\n",
      " 0.19490999 0.17877095 0.17877095 0.17090834 0.16201117 0.17049452\n",
      " 0.174012   0.17856404 0.17732257 0.16511484 0.16470101 0.16987378\n",
      " 0.17380509 0.1721498  0.17173598 0.17794331 0.18001241 0.1874612\n",
      " 0.19325471 0.18663356 0.17421891 0.17711566 0.17318436 0.17380509\n",
      " 0.1663563  0.14938961 0.15187254 0.15352783 0.15145872 0.14649286\n",
      " 0.1491827  0.13242293 0.12849162 0.11793917 0.11628388 0.12290503\n",
      " 0.12725016 0.13490586 0.13345748 0.13242293 0.13056073 0.13242293\n",
      " 0.13138837 0.13987172 0.14938961 0.1568384  0.15145872 0.14318229\n",
      " 0.13449203 0.15394165 0.13242293 0.15352783 0.16656321 0.16656321\n",
      " 0.16987378 0.17327002 0.17938636 0.18436906 0.18859906 0.19237578\n",
      " 0.19586095 0.19912545 0.20220061 0.20510735]\n",
      "9 day output [[0.20786634]]\n",
      "10 day input [0.1127664  0.14959652 0.14111318 0.15311401 0.1452514  0.14607904\n",
      " 0.16552866 0.17835713 0.18290917 0.19573764 0.19449617 0.18270226\n",
      " 0.18415063 0.18704738 0.17835713 0.18208152 0.18435754 0.17794331\n",
      " 0.16759777 0.19573764 0.18849576 0.19325471 0.19966894 0.1988413\n",
      " 0.20153114 0.2007035  0.19925512 0.19180633 0.20028968 0.21125595\n",
      " 0.21249741 0.20691082 0.22056694 0.21146286 0.20546245 0.19490999\n",
      " 0.17877095 0.17877095 0.17090834 0.16201117 0.17049452 0.174012\n",
      " 0.17856404 0.17732257 0.16511484 0.16470101 0.16987378 0.17380509\n",
      " 0.1721498  0.17173598 0.17794331 0.18001241 0.1874612  0.19325471\n",
      " 0.18663356 0.17421891 0.17711566 0.17318436 0.17380509 0.1663563\n",
      " 0.14938961 0.15187254 0.15352783 0.15145872 0.14649286 0.1491827\n",
      " 0.13242293 0.12849162 0.11793917 0.11628388 0.12290503 0.12725016\n",
      " 0.13490586 0.13345748 0.13242293 0.13056073 0.13242293 0.13138837\n",
      " 0.13987172 0.14938961 0.1568384  0.15145872 0.14318229 0.13449203\n",
      " 0.15394165 0.13242293 0.15352783 0.16656321 0.16656321 0.16987378\n",
      " 0.17327002 0.17938636 0.18436906 0.18859906 0.19237578 0.19586095\n",
      " 0.19912545 0.20220061 0.20510735 0.20786634]\n",
      "10 day output [[0.21049882]]\n",
      "11 day input [0.14959652 0.14111318 0.15311401 0.1452514  0.14607904 0.16552866\n",
      " 0.17835713 0.18290917 0.19573764 0.19449617 0.18270226 0.18415063\n",
      " 0.18704738 0.17835713 0.18208152 0.18435754 0.17794331 0.16759777\n",
      " 0.19573764 0.18849576 0.19325471 0.19966894 0.1988413  0.20153114\n",
      " 0.2007035  0.19925512 0.19180633 0.20028968 0.21125595 0.21249741\n",
      " 0.20691082 0.22056694 0.21146286 0.20546245 0.19490999 0.17877095\n",
      " 0.17877095 0.17090834 0.16201117 0.17049452 0.174012   0.17856404\n",
      " 0.17732257 0.16511484 0.16470101 0.16987378 0.17380509 0.1721498\n",
      " 0.17173598 0.17794331 0.18001241 0.1874612  0.19325471 0.18663356\n",
      " 0.17421891 0.17711566 0.17318436 0.17380509 0.1663563  0.14938961\n",
      " 0.15187254 0.15352783 0.15145872 0.14649286 0.1491827  0.13242293\n",
      " 0.12849162 0.11793917 0.11628388 0.12290503 0.12725016 0.13490586\n",
      " 0.13345748 0.13242293 0.13056073 0.13242293 0.13138837 0.13987172\n",
      " 0.14938961 0.1568384  0.15145872 0.14318229 0.13449203 0.15394165\n",
      " 0.13242293 0.15352783 0.16656321 0.16656321 0.16987378 0.17327002\n",
      " 0.17938636 0.18436906 0.18859906 0.19237578 0.19586095 0.19912545\n",
      " 0.20220061 0.20510735 0.20786634 0.21049882]\n",
      "11 day output [[0.21302478]]\n",
      "12 day input [0.14111318 0.15311401 0.1452514  0.14607904 0.16552866 0.17835713\n",
      " 0.18290917 0.19573764 0.19449617 0.18270226 0.18415063 0.18704738\n",
      " 0.17835713 0.18208152 0.18435754 0.17794331 0.16759777 0.19573764\n",
      " 0.18849576 0.19325471 0.19966894 0.1988413  0.20153114 0.2007035\n",
      " 0.19925512 0.19180633 0.20028968 0.21125595 0.21249741 0.20691082\n",
      " 0.22056694 0.21146286 0.20546245 0.19490999 0.17877095 0.17877095\n",
      " 0.17090834 0.16201117 0.17049452 0.174012   0.17856404 0.17732257\n",
      " 0.16511484 0.16470101 0.16987378 0.17380509 0.1721498  0.17173598\n",
      " 0.17794331 0.18001241 0.1874612  0.19325471 0.18663356 0.17421891\n",
      " 0.17711566 0.17318436 0.17380509 0.1663563  0.14938961 0.15187254\n",
      " 0.15352783 0.15145872 0.14649286 0.1491827  0.13242293 0.12849162\n",
      " 0.11793917 0.11628388 0.12290503 0.12725016 0.13490586 0.13345748\n",
      " 0.13242293 0.13056073 0.13242293 0.13138837 0.13987172 0.14938961\n",
      " 0.1568384  0.15145872 0.14318229 0.13449203 0.15394165 0.13242293\n",
      " 0.15352783 0.16656321 0.16656321 0.16987378 0.17327002 0.17938636\n",
      " 0.18436906 0.18859906 0.19237578 0.19586095 0.19912545 0.20220061\n",
      " 0.20510735 0.20786634 0.21049882 0.21302478]\n",
      "12 day output [[0.21546087]]\n",
      "13 day input [0.15311401 0.1452514  0.14607904 0.16552866 0.17835713 0.18290917\n",
      " 0.19573764 0.19449617 0.18270226 0.18415063 0.18704738 0.17835713\n",
      " 0.18208152 0.18435754 0.17794331 0.16759777 0.19573764 0.18849576\n",
      " 0.19325471 0.19966894 0.1988413  0.20153114 0.2007035  0.19925512\n",
      " 0.19180633 0.20028968 0.21125595 0.21249741 0.20691082 0.22056694\n",
      " 0.21146286 0.20546245 0.19490999 0.17877095 0.17877095 0.17090834\n",
      " 0.16201117 0.17049452 0.174012   0.17856404 0.17732257 0.16511484\n",
      " 0.16470101 0.16987378 0.17380509 0.1721498  0.17173598 0.17794331\n",
      " 0.18001241 0.1874612  0.19325471 0.18663356 0.17421891 0.17711566\n",
      " 0.17318436 0.17380509 0.1663563  0.14938961 0.15187254 0.15352783\n",
      " 0.15145872 0.14649286 0.1491827  0.13242293 0.12849162 0.11793917\n",
      " 0.11628388 0.12290503 0.12725016 0.13490586 0.13345748 0.13242293\n",
      " 0.13056073 0.13242293 0.13138837 0.13987172 0.14938961 0.1568384\n",
      " 0.15145872 0.14318229 0.13449203 0.15394165 0.13242293 0.15352783\n",
      " 0.16656321 0.16656321 0.16987378 0.17327002 0.17938636 0.18436906\n",
      " 0.18859906 0.19237578 0.19586095 0.19912545 0.20220061 0.20510735\n",
      " 0.20786634 0.21049882 0.21302478 0.21546087]\n",
      "13 day output [[0.21782033]]\n",
      "14 day input [0.1452514  0.14607904 0.16552866 0.17835713 0.18290917 0.19573764\n",
      " 0.19449617 0.18270226 0.18415063 0.18704738 0.17835713 0.18208152\n",
      " 0.18435754 0.17794331 0.16759777 0.19573764 0.18849576 0.19325471\n",
      " 0.19966894 0.1988413  0.20153114 0.2007035  0.19925512 0.19180633\n",
      " 0.20028968 0.21125595 0.21249741 0.20691082 0.22056694 0.21146286\n",
      " 0.20546245 0.19490999 0.17877095 0.17877095 0.17090834 0.16201117\n",
      " 0.17049452 0.174012   0.17856404 0.17732257 0.16511484 0.16470101\n",
      " 0.16987378 0.17380509 0.1721498  0.17173598 0.17794331 0.18001241\n",
      " 0.1874612  0.19325471 0.18663356 0.17421891 0.17711566 0.17318436\n",
      " 0.17380509 0.1663563  0.14938961 0.15187254 0.15352783 0.15145872\n",
      " 0.14649286 0.1491827  0.13242293 0.12849162 0.11793917 0.11628388\n",
      " 0.12290503 0.12725016 0.13490586 0.13345748 0.13242293 0.13056073\n",
      " 0.13242293 0.13138837 0.13987172 0.14938961 0.1568384  0.15145872\n",
      " 0.14318229 0.13449203 0.15394165 0.13242293 0.15352783 0.16656321\n",
      " 0.16656321 0.16987378 0.17327002 0.17938636 0.18436906 0.18859906\n",
      " 0.19237578 0.19586095 0.19912545 0.20220061 0.20510735 0.20786634\n",
      " 0.21049882 0.21302478 0.21546087 0.21782033]\n",
      "14 day output [[0.22011289]]\n",
      "15 day input [0.14607904 0.16552866 0.17835713 0.18290917 0.19573764 0.19449617\n",
      " 0.18270226 0.18415063 0.18704738 0.17835713 0.18208152 0.18435754\n",
      " 0.17794331 0.16759777 0.19573764 0.18849576 0.19325471 0.19966894\n",
      " 0.1988413  0.20153114 0.2007035  0.19925512 0.19180633 0.20028968\n",
      " 0.21125595 0.21249741 0.20691082 0.22056694 0.21146286 0.20546245\n",
      " 0.19490999 0.17877095 0.17877095 0.17090834 0.16201117 0.17049452\n",
      " 0.174012   0.17856404 0.17732257 0.16511484 0.16470101 0.16987378\n",
      " 0.17380509 0.1721498  0.17173598 0.17794331 0.18001241 0.1874612\n",
      " 0.19325471 0.18663356 0.17421891 0.17711566 0.17318436 0.17380509\n",
      " 0.1663563  0.14938961 0.15187254 0.15352783 0.15145872 0.14649286\n",
      " 0.1491827  0.13242293 0.12849162 0.11793917 0.11628388 0.12290503\n",
      " 0.12725016 0.13490586 0.13345748 0.13242293 0.13056073 0.13242293\n",
      " 0.13138837 0.13987172 0.14938961 0.1568384  0.15145872 0.14318229\n",
      " 0.13449203 0.15394165 0.13242293 0.15352783 0.16656321 0.16656321\n",
      " 0.16987378 0.17327002 0.17938636 0.18436906 0.18859906 0.19237578\n",
      " 0.19586095 0.19912545 0.20220061 0.20510735 0.20786634 0.21049882\n",
      " 0.21302478 0.21546087 0.21782033 0.22011289]\n",
      "15 day output [[0.22234546]]\n",
      "16 day input [0.16552866 0.17835713 0.18290917 0.19573764 0.19449617 0.18270226\n",
      " 0.18415063 0.18704738 0.17835713 0.18208152 0.18435754 0.17794331\n",
      " 0.16759777 0.19573764 0.18849576 0.19325471 0.19966894 0.1988413\n",
      " 0.20153114 0.2007035  0.19925512 0.19180633 0.20028968 0.21125595\n",
      " 0.21249741 0.20691082 0.22056694 0.21146286 0.20546245 0.19490999\n",
      " 0.17877095 0.17877095 0.17090834 0.16201117 0.17049452 0.174012\n",
      " 0.17856404 0.17732257 0.16511484 0.16470101 0.16987378 0.17380509\n",
      " 0.1721498  0.17173598 0.17794331 0.18001241 0.1874612  0.19325471\n",
      " 0.18663356 0.17421891 0.17711566 0.17318436 0.17380509 0.1663563\n",
      " 0.14938961 0.15187254 0.15352783 0.15145872 0.14649286 0.1491827\n",
      " 0.13242293 0.12849162 0.11793917 0.11628388 0.12290503 0.12725016\n",
      " 0.13490586 0.13345748 0.13242293 0.13056073 0.13242293 0.13138837\n",
      " 0.13987172 0.14938961 0.1568384  0.15145872 0.14318229 0.13449203\n",
      " 0.15394165 0.13242293 0.15352783 0.16656321 0.16656321 0.16987378\n",
      " 0.17327002 0.17938636 0.18436906 0.18859906 0.19237578 0.19586095\n",
      " 0.19912545 0.20220061 0.20510735 0.20786634 0.21049882 0.21302478\n",
      " 0.21546087 0.21782033 0.22011289 0.22234546]\n",
      "16 day output [[0.22452281]]\n",
      "17 day input [0.17835713 0.18290917 0.19573764 0.19449617 0.18270226 0.18415063\n",
      " 0.18704738 0.17835713 0.18208152 0.18435754 0.17794331 0.16759777\n",
      " 0.19573764 0.18849576 0.19325471 0.19966894 0.1988413  0.20153114\n",
      " 0.2007035  0.19925512 0.19180633 0.20028968 0.21125595 0.21249741\n",
      " 0.20691082 0.22056694 0.21146286 0.20546245 0.19490999 0.17877095\n",
      " 0.17877095 0.17090834 0.16201117 0.17049452 0.174012   0.17856404\n",
      " 0.17732257 0.16511484 0.16470101 0.16987378 0.17380509 0.1721498\n",
      " 0.17173598 0.17794331 0.18001241 0.1874612  0.19325471 0.18663356\n",
      " 0.17421891 0.17711566 0.17318436 0.17380509 0.1663563  0.14938961\n",
      " 0.15187254 0.15352783 0.15145872 0.14649286 0.1491827  0.13242293\n",
      " 0.12849162 0.11793917 0.11628388 0.12290503 0.12725016 0.13490586\n",
      " 0.13345748 0.13242293 0.13056073 0.13242293 0.13138837 0.13987172\n",
      " 0.14938961 0.1568384  0.15145872 0.14318229 0.13449203 0.15394165\n",
      " 0.13242293 0.15352783 0.16656321 0.16656321 0.16987378 0.17327002\n",
      " 0.17938636 0.18436906 0.18859906 0.19237578 0.19586095 0.19912545\n",
      " 0.20220061 0.20510735 0.20786634 0.21049882 0.21302478 0.21546087\n",
      " 0.21782033 0.22011289 0.22234546 0.22452281]\n",
      "17 day output [[0.22664812]]\n",
      "18 day input [0.18290917 0.19573764 0.19449617 0.18270226 0.18415063 0.18704738\n",
      " 0.17835713 0.18208152 0.18435754 0.17794331 0.16759777 0.19573764\n",
      " 0.18849576 0.19325471 0.19966894 0.1988413  0.20153114 0.2007035\n",
      " 0.19925512 0.19180633 0.20028968 0.21125595 0.21249741 0.20691082\n",
      " 0.22056694 0.21146286 0.20546245 0.19490999 0.17877095 0.17877095\n",
      " 0.17090834 0.16201117 0.17049452 0.174012   0.17856404 0.17732257\n",
      " 0.16511484 0.16470101 0.16987378 0.17380509 0.1721498  0.17173598\n",
      " 0.17794331 0.18001241 0.1874612  0.19325471 0.18663356 0.17421891\n",
      " 0.17711566 0.17318436 0.17380509 0.1663563  0.14938961 0.15187254\n",
      " 0.15352783 0.15145872 0.14649286 0.1491827  0.13242293 0.12849162\n",
      " 0.11793917 0.11628388 0.12290503 0.12725016 0.13490586 0.13345748\n",
      " 0.13242293 0.13056073 0.13242293 0.13138837 0.13987172 0.14938961\n",
      " 0.1568384  0.15145872 0.14318229 0.13449203 0.15394165 0.13242293\n",
      " 0.15352783 0.16656321 0.16656321 0.16987378 0.17327002 0.17938636\n",
      " 0.18436906 0.18859906 0.19237578 0.19586095 0.19912545 0.20220061\n",
      " 0.20510735 0.20786634 0.21049882 0.21302478 0.21546087 0.21782033\n",
      " 0.22011289 0.22234546 0.22452281 0.22664812]\n",
      "18 day output [[0.22872405]]\n",
      "19 day input [0.19573764 0.19449617 0.18270226 0.18415063 0.18704738 0.17835713\n",
      " 0.18208152 0.18435754 0.17794331 0.16759777 0.19573764 0.18849576\n",
      " 0.19325471 0.19966894 0.1988413  0.20153114 0.2007035  0.19925512\n",
      " 0.19180633 0.20028968 0.21125595 0.21249741 0.20691082 0.22056694\n",
      " 0.21146286 0.20546245 0.19490999 0.17877095 0.17877095 0.17090834\n",
      " 0.16201117 0.17049452 0.174012   0.17856404 0.17732257 0.16511484\n",
      " 0.16470101 0.16987378 0.17380509 0.1721498  0.17173598 0.17794331\n",
      " 0.18001241 0.1874612  0.19325471 0.18663356 0.17421891 0.17711566\n",
      " 0.17318436 0.17380509 0.1663563  0.14938961 0.15187254 0.15352783\n",
      " 0.15145872 0.14649286 0.1491827  0.13242293 0.12849162 0.11793917\n",
      " 0.11628388 0.12290503 0.12725016 0.13490586 0.13345748 0.13242293\n",
      " 0.13056073 0.13242293 0.13138837 0.13987172 0.14938961 0.1568384\n",
      " 0.15145872 0.14318229 0.13449203 0.15394165 0.13242293 0.15352783\n",
      " 0.16656321 0.16656321 0.16987378 0.17327002 0.17938636 0.18436906\n",
      " 0.18859906 0.19237578 0.19586095 0.19912545 0.20220061 0.20510735\n",
      " 0.20786634 0.21049882 0.21302478 0.21546087 0.21782033 0.22011289\n",
      " 0.22234546 0.22452281 0.22664812 0.22872405]\n",
      "19 day output [[0.23075245]]\n",
      "20 day input [0.19449617 0.18270226 0.18415063 0.18704738 0.17835713 0.18208152\n",
      " 0.18435754 0.17794331 0.16759777 0.19573764 0.18849576 0.19325471\n",
      " 0.19966894 0.1988413  0.20153114 0.2007035  0.19925512 0.19180633\n",
      " 0.20028968 0.21125595 0.21249741 0.20691082 0.22056694 0.21146286\n",
      " 0.20546245 0.19490999 0.17877095 0.17877095 0.17090834 0.16201117\n",
      " 0.17049452 0.174012   0.17856404 0.17732257 0.16511484 0.16470101\n",
      " 0.16987378 0.17380509 0.1721498  0.17173598 0.17794331 0.18001241\n",
      " 0.1874612  0.19325471 0.18663356 0.17421891 0.17711566 0.17318436\n",
      " 0.17380509 0.1663563  0.14938961 0.15187254 0.15352783 0.15145872\n",
      " 0.14649286 0.1491827  0.13242293 0.12849162 0.11793917 0.11628388\n",
      " 0.12290503 0.12725016 0.13490586 0.13345748 0.13242293 0.13056073\n",
      " 0.13242293 0.13138837 0.13987172 0.14938961 0.1568384  0.15145872\n",
      " 0.14318229 0.13449203 0.15394165 0.13242293 0.15352783 0.16656321\n",
      " 0.16656321 0.16987378 0.17327002 0.17938636 0.18436906 0.18859906\n",
      " 0.19237578 0.19586095 0.19912545 0.20220061 0.20510735 0.20786634\n",
      " 0.21049882 0.21302478 0.21546087 0.21782033 0.22011289 0.22234546\n",
      " 0.22452281 0.22664812 0.22872405 0.23075245]\n",
      "20 day output [[0.232735]]\n",
      "21 day input [0.18270226 0.18415063 0.18704738 0.17835713 0.18208152 0.18435754\n",
      " 0.17794331 0.16759777 0.19573764 0.18849576 0.19325471 0.19966894\n",
      " 0.1988413  0.20153114 0.2007035  0.19925512 0.19180633 0.20028968\n",
      " 0.21125595 0.21249741 0.20691082 0.22056694 0.21146286 0.20546245\n",
      " 0.19490999 0.17877095 0.17877095 0.17090834 0.16201117 0.17049452\n",
      " 0.174012   0.17856404 0.17732257 0.16511484 0.16470101 0.16987378\n",
      " 0.17380509 0.1721498  0.17173598 0.17794331 0.18001241 0.1874612\n",
      " 0.19325471 0.18663356 0.17421891 0.17711566 0.17318436 0.17380509\n",
      " 0.1663563  0.14938961 0.15187254 0.15352783 0.15145872 0.14649286\n",
      " 0.1491827  0.13242293 0.12849162 0.11793917 0.11628388 0.12290503\n",
      " 0.12725016 0.13490586 0.13345748 0.13242293 0.13056073 0.13242293\n",
      " 0.13138837 0.13987172 0.14938961 0.1568384  0.15145872 0.14318229\n",
      " 0.13449203 0.15394165 0.13242293 0.15352783 0.16656321 0.16656321\n",
      " 0.16987378 0.17327002 0.17938636 0.18436906 0.18859906 0.19237578\n",
      " 0.19586095 0.19912545 0.20220061 0.20510735 0.20786634 0.21049882\n",
      " 0.21302478 0.21546087 0.21782033 0.22011289 0.22234546 0.22452281\n",
      " 0.22664812 0.22872405 0.23075245 0.23273499]\n",
      "21 day output [[0.23467347]]\n",
      "22 day input [0.18415063 0.18704738 0.17835713 0.18208152 0.18435754 0.17794331\n",
      " 0.16759777 0.19573764 0.18849576 0.19325471 0.19966894 0.1988413\n",
      " 0.20153114 0.2007035  0.19925512 0.19180633 0.20028968 0.21125595\n",
      " 0.21249741 0.20691082 0.22056694 0.21146286 0.20546245 0.19490999\n",
      " 0.17877095 0.17877095 0.17090834 0.16201117 0.17049452 0.174012\n",
      " 0.17856404 0.17732257 0.16511484 0.16470101 0.16987378 0.17380509\n",
      " 0.1721498  0.17173598 0.17794331 0.18001241 0.1874612  0.19325471\n",
      " 0.18663356 0.17421891 0.17711566 0.17318436 0.17380509 0.1663563\n",
      " 0.14938961 0.15187254 0.15352783 0.15145872 0.14649286 0.1491827\n",
      " 0.13242293 0.12849162 0.11793917 0.11628388 0.12290503 0.12725016\n",
      " 0.13490586 0.13345748 0.13242293 0.13056073 0.13242293 0.13138837\n",
      " 0.13987172 0.14938961 0.1568384  0.15145872 0.14318229 0.13449203\n",
      " 0.15394165 0.13242293 0.15352783 0.16656321 0.16656321 0.16987378\n",
      " 0.17327002 0.17938636 0.18436906 0.18859906 0.19237578 0.19586095\n",
      " 0.19912545 0.20220061 0.20510735 0.20786634 0.21049882 0.21302478\n",
      " 0.21546087 0.21782033 0.22011289 0.22234546 0.22452281 0.22664812\n",
      " 0.22872405 0.23075245 0.23273499 0.23467347]\n",
      "22 day output [[0.23656957]]\n",
      "23 day input [0.18704738 0.17835713 0.18208152 0.18435754 0.17794331 0.16759777\n",
      " 0.19573764 0.18849576 0.19325471 0.19966894 0.1988413  0.20153114\n",
      " 0.2007035  0.19925512 0.19180633 0.20028968 0.21125595 0.21249741\n",
      " 0.20691082 0.22056694 0.21146286 0.20546245 0.19490999 0.17877095\n",
      " 0.17877095 0.17090834 0.16201117 0.17049452 0.174012   0.17856404\n",
      " 0.17732257 0.16511484 0.16470101 0.16987378 0.17380509 0.1721498\n",
      " 0.17173598 0.17794331 0.18001241 0.1874612  0.19325471 0.18663356\n",
      " 0.17421891 0.17711566 0.17318436 0.17380509 0.1663563  0.14938961\n",
      " 0.15187254 0.15352783 0.15145872 0.14649286 0.1491827  0.13242293\n",
      " 0.12849162 0.11793917 0.11628388 0.12290503 0.12725016 0.13490586\n",
      " 0.13345748 0.13242293 0.13056073 0.13242293 0.13138837 0.13987172\n",
      " 0.14938961 0.1568384  0.15145872 0.14318229 0.13449203 0.15394165\n",
      " 0.13242293 0.15352783 0.16656321 0.16656321 0.16987378 0.17327002\n",
      " 0.17938636 0.18436906 0.18859906 0.19237578 0.19586095 0.19912545\n",
      " 0.20220061 0.20510735 0.20786634 0.21049882 0.21302478 0.21546087\n",
      " 0.21782033 0.22011289 0.22234546 0.22452281 0.22664812 0.22872405\n",
      " 0.23075245 0.23273499 0.23467347 0.23656957]\n",
      "23 day output [[0.23842517]]\n",
      "24 day input [0.17835713 0.18208152 0.18435754 0.17794331 0.16759777 0.19573764\n",
      " 0.18849576 0.19325471 0.19966894 0.1988413  0.20153114 0.2007035\n",
      " 0.19925512 0.19180633 0.20028968 0.21125595 0.21249741 0.20691082\n",
      " 0.22056694 0.21146286 0.20546245 0.19490999 0.17877095 0.17877095\n",
      " 0.17090834 0.16201117 0.17049452 0.174012   0.17856404 0.17732257\n",
      " 0.16511484 0.16470101 0.16987378 0.17380509 0.1721498  0.17173598\n",
      " 0.17794331 0.18001241 0.1874612  0.19325471 0.18663356 0.17421891\n",
      " 0.17711566 0.17318436 0.17380509 0.1663563  0.14938961 0.15187254\n",
      " 0.15352783 0.15145872 0.14649286 0.1491827  0.13242293 0.12849162\n",
      " 0.11793917 0.11628388 0.12290503 0.12725016 0.13490586 0.13345748\n",
      " 0.13242293 0.13056073 0.13242293 0.13138837 0.13987172 0.14938961\n",
      " 0.1568384  0.15145872 0.14318229 0.13449203 0.15394165 0.13242293\n",
      " 0.15352783 0.16656321 0.16656321 0.16987378 0.17327002 0.17938636\n",
      " 0.18436906 0.18859906 0.19237578 0.19586095 0.19912545 0.20220061\n",
      " 0.20510735 0.20786634 0.21049882 0.21302478 0.21546087 0.21782033\n",
      " 0.22011289 0.22234546 0.22452281 0.22664812 0.22872405 0.23075245\n",
      " 0.23273499 0.23467347 0.23656957 0.23842517]\n",
      "24 day output [[0.24024214]]\n",
      "25 day input [0.18208152 0.18435754 0.17794331 0.16759777 0.19573764 0.18849576\n",
      " 0.19325471 0.19966894 0.1988413  0.20153114 0.2007035  0.19925512\n",
      " 0.19180633 0.20028968 0.21125595 0.21249741 0.20691082 0.22056694\n",
      " 0.21146286 0.20546245 0.19490999 0.17877095 0.17877095 0.17090834\n",
      " 0.16201117 0.17049452 0.174012   0.17856404 0.17732257 0.16511484\n",
      " 0.16470101 0.16987378 0.17380509 0.1721498  0.17173598 0.17794331\n",
      " 0.18001241 0.1874612  0.19325471 0.18663356 0.17421891 0.17711566\n",
      " 0.17318436 0.17380509 0.1663563  0.14938961 0.15187254 0.15352783\n",
      " 0.15145872 0.14649286 0.1491827  0.13242293 0.12849162 0.11793917\n",
      " 0.11628388 0.12290503 0.12725016 0.13490586 0.13345748 0.13242293\n",
      " 0.13056073 0.13242293 0.13138837 0.13987172 0.14938961 0.1568384\n",
      " 0.15145872 0.14318229 0.13449203 0.15394165 0.13242293 0.15352783\n",
      " 0.16656321 0.16656321 0.16987378 0.17327002 0.17938636 0.18436906\n",
      " 0.18859906 0.19237578 0.19586095 0.19912545 0.20220061 0.20510735\n",
      " 0.20786634 0.21049882 0.21302478 0.21546087 0.21782033 0.22011289\n",
      " 0.22234546 0.22452281 0.22664812 0.22872405 0.23075245 0.23273499\n",
      " 0.23467347 0.23656957 0.23842517 0.24024214]\n",
      "25 day output [[0.24202244]]\n",
      "26 day input [0.18435754 0.17794331 0.16759777 0.19573764 0.18849576 0.19325471\n",
      " 0.19966894 0.1988413  0.20153114 0.2007035  0.19925512 0.19180633\n",
      " 0.20028968 0.21125595 0.21249741 0.20691082 0.22056694 0.21146286\n",
      " 0.20546245 0.19490999 0.17877095 0.17877095 0.17090834 0.16201117\n",
      " 0.17049452 0.174012   0.17856404 0.17732257 0.16511484 0.16470101\n",
      " 0.16987378 0.17380509 0.1721498  0.17173598 0.17794331 0.18001241\n",
      " 0.1874612  0.19325471 0.18663356 0.17421891 0.17711566 0.17318436\n",
      " 0.17380509 0.1663563  0.14938961 0.15187254 0.15352783 0.15145872\n",
      " 0.14649286 0.1491827  0.13242293 0.12849162 0.11793917 0.11628388\n",
      " 0.12290503 0.12725016 0.13490586 0.13345748 0.13242293 0.13056073\n",
      " 0.13242293 0.13138837 0.13987172 0.14938961 0.1568384  0.15145872\n",
      " 0.14318229 0.13449203 0.15394165 0.13242293 0.15352783 0.16656321\n",
      " 0.16656321 0.16987378 0.17327002 0.17938636 0.18436906 0.18859906\n",
      " 0.19237578 0.19586095 0.19912545 0.20220061 0.20510735 0.20786634\n",
      " 0.21049882 0.21302478 0.21546087 0.21782033 0.22011289 0.22234546\n",
      " 0.22452281 0.22664812 0.22872405 0.23075245 0.23273499 0.23467347\n",
      " 0.23656957 0.23842517 0.24024214 0.24202244]\n",
      "26 day output [[0.24376792]]\n",
      "27 day input [0.17794331 0.16759777 0.19573764 0.18849576 0.19325471 0.19966894\n",
      " 0.1988413  0.20153114 0.2007035  0.19925512 0.19180633 0.20028968\n",
      " 0.21125595 0.21249741 0.20691082 0.22056694 0.21146286 0.20546245\n",
      " 0.19490999 0.17877095 0.17877095 0.17090834 0.16201117 0.17049452\n",
      " 0.174012   0.17856404 0.17732257 0.16511484 0.16470101 0.16987378\n",
      " 0.17380509 0.1721498  0.17173598 0.17794331 0.18001241 0.1874612\n",
      " 0.19325471 0.18663356 0.17421891 0.17711566 0.17318436 0.17380509\n",
      " 0.1663563  0.14938961 0.15187254 0.15352783 0.15145872 0.14649286\n",
      " 0.1491827  0.13242293 0.12849162 0.11793917 0.11628388 0.12290503\n",
      " 0.12725016 0.13490586 0.13345748 0.13242293 0.13056073 0.13242293\n",
      " 0.13138837 0.13987172 0.14938961 0.1568384  0.15145872 0.14318229\n",
      " 0.13449203 0.15394165 0.13242293 0.15352783 0.16656321 0.16656321\n",
      " 0.16987378 0.17327002 0.17938636 0.18436906 0.18859906 0.19237578\n",
      " 0.19586095 0.19912545 0.20220061 0.20510735 0.20786634 0.21049882\n",
      " 0.21302478 0.21546087 0.21782033 0.22011289 0.22234546 0.22452281\n",
      " 0.22664812 0.22872405 0.23075245 0.23273499 0.23467347 0.23656957\n",
      " 0.23842517 0.24024214 0.24202244 0.24376792]\n",
      "27 day output [[0.2454804]]\n",
      "28 day input [0.16759777 0.19573764 0.18849576 0.19325471 0.19966894 0.1988413\n",
      " 0.20153114 0.2007035  0.19925512 0.19180633 0.20028968 0.21125595\n",
      " 0.21249741 0.20691082 0.22056694 0.21146286 0.20546245 0.19490999\n",
      " 0.17877095 0.17877095 0.17090834 0.16201117 0.17049452 0.174012\n",
      " 0.17856404 0.17732257 0.16511484 0.16470101 0.16987378 0.17380509\n",
      " 0.1721498  0.17173598 0.17794331 0.18001241 0.1874612  0.19325471\n",
      " 0.18663356 0.17421891 0.17711566 0.17318436 0.17380509 0.1663563\n",
      " 0.14938961 0.15187254 0.15352783 0.15145872 0.14649286 0.1491827\n",
      " 0.13242293 0.12849162 0.11793917 0.11628388 0.12290503 0.12725016\n",
      " 0.13490586 0.13345748 0.13242293 0.13056073 0.13242293 0.13138837\n",
      " 0.13987172 0.14938961 0.1568384  0.15145872 0.14318229 0.13449203\n",
      " 0.15394165 0.13242293 0.15352783 0.16656321 0.16656321 0.16987378\n",
      " 0.17327002 0.17938636 0.18436906 0.18859906 0.19237578 0.19586095\n",
      " 0.19912545 0.20220061 0.20510735 0.20786634 0.21049882 0.21302478\n",
      " 0.21546087 0.21782033 0.22011289 0.22234546 0.22452281 0.22664812\n",
      " 0.22872405 0.23075245 0.23273499 0.23467347 0.23656957 0.23842517\n",
      " 0.24024214 0.24202244 0.24376792 0.2454804 ]\n",
      "28 day output [[0.24716163]]\n",
      "29 day input [0.19573764 0.18849576 0.19325471 0.19966894 0.1988413  0.20153114\n",
      " 0.2007035  0.19925512 0.19180633 0.20028968 0.21125595 0.21249741\n",
      " 0.20691082 0.22056694 0.21146286 0.20546245 0.19490999 0.17877095\n",
      " 0.17877095 0.17090834 0.16201117 0.17049452 0.174012   0.17856404\n",
      " 0.17732257 0.16511484 0.16470101 0.16987378 0.17380509 0.1721498\n",
      " 0.17173598 0.17794331 0.18001241 0.1874612  0.19325471 0.18663356\n",
      " 0.17421891 0.17711566 0.17318436 0.17380509 0.1663563  0.14938961\n",
      " 0.15187254 0.15352783 0.15145872 0.14649286 0.1491827  0.13242293\n",
      " 0.12849162 0.11793917 0.11628388 0.12290503 0.12725016 0.13490586\n",
      " 0.13345748 0.13242293 0.13056073 0.13242293 0.13138837 0.13987172\n",
      " 0.14938961 0.1568384  0.15145872 0.14318229 0.13449203 0.15394165\n",
      " 0.13242293 0.15352783 0.16656321 0.16656321 0.16987378 0.17327002\n",
      " 0.17938636 0.18436906 0.18859906 0.19237578 0.19586095 0.19912545\n",
      " 0.20220061 0.20510735 0.20786634 0.21049882 0.21302478 0.21546087\n",
      " 0.21782033 0.22011289 0.22234546 0.22452281 0.22664812 0.22872405\n",
      " 0.23075245 0.23273499 0.23467347 0.23656957 0.23842517 0.24024214\n",
      " 0.24202244 0.24376792 0.2454804  0.24716163]\n",
      "29 day output [[0.24881305]]\n",
      "[[0.17327001690864563], [0.17938636243343353], [0.1843690574169159], [0.18859906494617462], [0.1923757791519165], [0.19586095213890076], [0.19912545382976532], [0.20220060646533966], [0.20510734617710114], [0.2078663408756256], [0.21049882471561432], [0.2130247801542282], [0.215460866689682], [0.21782033145427704], [0.2201128900051117], [0.22234545648097992], [0.22452281415462494], [0.22664812207221985], [0.22872404754161835], [0.23075245320796967], [0.23273499310016632], [0.23467347025871277], [0.2365695685148239], [0.23842516541481018], [0.240242138504982], [0.24202243983745575], [0.24376791715621948], [0.24548040330410004], [0.2471616268157959], [0.24881304800510406]]\n"
     ]
    }
   ],
   "source": [
    "from numpy import array\n",
    "\n",
    "lst_output=[]\n",
    "n_steps=100\n",
    "nextNumberOfDays=30\n",
    "i=0\n",
    "\n",
    "while(i<nextNumberOfDays):\n",
    "    \n",
    "    if(len(temp_input)>100):\n",
    "        #print(temp_input)\n",
    "        x_input=np.array(temp_input[1:])\n",
    "        print(\"{} day input {}\".format(i,x_input))\n",
    "        x_input=x_input.reshape(1,-1)\n",
    "        x_input = x_input.reshape((1, n_steps, 1))\n",
    "        #print(x_input)\n",
    "        yhat = model.predict(x_input, verbose=0)\n",
    "        print(\"{} day output {}\".format(i,yhat))\n",
    "        temp_input.extend(yhat[0].tolist())\n",
    "        temp_input=temp_input[1:]\n",
    "        #print(temp_input)\n",
    "        lst_output.extend(yhat.tolist())\n",
    "        i=i+1\n",
    "    else:\n",
    "        x_input = x_input.reshape((1, n_steps,1))\n",
    "        yhat = model.predict(x_input, verbose=0)\n",
    "        print(yhat[0])\n",
    "        temp_input.extend(yhat[0].tolist())\n",
    "        print(len(temp_input))\n",
    "        lst_output.extend(yhat.tolist())\n",
    "        i=i+1\n",
    "    \n",
    "\n",
    "print(lst_output)"
   ]
  },
  {
   "cell_type": "code",
   "execution_count": 70,
   "id": "NuO9YAze4-dk",
   "metadata": {
    "id": "NuO9YAze4-dk"
   },
   "outputs": [],
   "source": [
    "day_new=np.arange(1,101)\n",
    "day_pred=np.arange(101,131)"
   ]
  },
  {
   "cell_type": "code",
   "execution_count": 71,
   "id": "cjItAuWu5GB4",
   "metadata": {
    "id": "cjItAuWu5GB4"
   },
   "outputs": [],
   "source": [
    "import matplotlib.pyplot as plt"
   ]
  },
  {
   "cell_type": "code",
   "execution_count": 72,
   "id": "qOAJhE5w5JEL",
   "metadata": {
    "colab": {
     "base_uri": "https://localhost:8080/"
    },
    "id": "qOAJhE5w5JEL",
    "outputId": "c111c94e-09bc-423d-9008-29be5b5fa07a"
   },
   "outputs": [
    {
     "data": {
      "text/plain": [
       "2035"
      ]
     },
     "execution_count": 72,
     "metadata": {},
     "output_type": "execute_result"
    }
   ],
   "source": [
    "len(df1_close)"
   ]
  },
  {
   "cell_type": "code",
   "execution_count": 73,
   "id": "s4MJvred5Kz6",
   "metadata": {
    "colab": {
     "base_uri": "https://localhost:8080/",
     "height": 282
    },
    "id": "s4MJvred5Kz6",
    "outputId": "e9a89a7f-a8e7-4163-dbe2-6ac5a0d63d9b"
   },
   "outputs": [
    {
     "data": {
      "text/plain": [
       "[<matplotlib.lines.Line2D at 0x7f7cc27af190>]"
      ]
     },
     "execution_count": 73,
     "metadata": {},
     "output_type": "execute_result"
    },
    {
     "data": {
      "image/png": "[encoded data removed]",
      "text/plain": [
       "<Figure size 432x288 with 1 Axes>"
      ]
     },
     "metadata": {
      "needs_background": "light"
     },
     "output_type": "display_data"
    }
   ],
   "source": [
    "plt.plot(day_new,scaler.inverse_transform(df1_close[1935:]))\n",
    "plt.plot(day_pred,scaler.inverse_transform(lst_output))"
   ]
  },
  {
   "cell_type": "code",
   "execution_count": 74,
   "id": "8lr2Fnrn5NJz",
   "metadata": {
    "colab": {
     "base_uri": "https://localhost:8080/",
     "height": 282
    },
    "id": "8lr2Fnrn5NJz",
    "outputId": "190abdb1-7c39-4e97-8c27-9204615c3626"
   },
   "outputs": [
    {
     "data": {
      "text/plain": [
       "[<matplotlib.lines.Line2D at 0x7f7cc1149210>]"
      ]
     },
     "execution_count": 74,
     "metadata": {},
     "output_type": "execute_result"
    },
    {
     "data": {
      "image/png": "[encoded data removed]",
      "text/plain": [
       "<Figure size 432x288 with 1 Axes>"
      ]
     },
     "metadata": {
      "needs_background": "light"
     },
     "output_type": "display_data"
    }
   ],
   "source": [
    "df3=df1_close.tolist()\n",
    "df3.extend(lst_output)\n",
    "plt.plot(df3[2000:])"
   ]
  },
  {
   "cell_type": "code",
   "execution_count": 75,
   "id": "pz48NyIF5PaR",
   "metadata": {
    "id": "pz48NyIF5PaR"
   },
   "outputs": [],
   "source": [
    "df3=scaler.inverse_transform(df3).tolist()"
   ]
  },
  {
   "cell_type": "code",
   "execution_count": 76,
   "id": "afD-L6yt5Rus",
   "metadata": {
    "colab": {
     "base_uri": "https://localhost:8080/",
     "height": 282
    },
    "id": "afD-L6yt5Rus",
    "outputId": "6f5b2e7c-d031-4a3e-c3c3-80a7f0e3fe80"
   },
   "outputs": [
    {
     "data": {
      "text/plain": [
       "[<matplotlib.lines.Line2D at 0x7f7cc284a310>]"
      ]
     },
     "execution_count": 76,
     "metadata": {},
     "output_type": "execute_result"
    },
    {
     "data": {
      "image/png": "[encoded data removed]",
      "text/plain": [
       "<Figure size 432x288 with 1 Axes>"
      ]
     },
     "metadata": {
      "needs_background": "light"
     },
     "output_type": "display_data"
    }
   ],
   "source": [
    "plt.plot(df3)"
   ]
  },
  {
   "cell_type": "markdown",
   "id": "5a76ad70",
   "metadata": {
    "id": "K71I4Lqf5dOB"
   },
   "source": [
    "# THANKYOU!"
   ]
  },
  {
   "cell_type": "code",
   "execution_count": null,
   "id": "95e71914",
   "metadata": {},
   "outputs": [],
   "source": []
  }
 ],
 "metadata": {
  "colab": {
   "collapsed_sections": [],
   "name": "Stock market.ipynb",
   "provenance": []
  },
  "kernelspec": {
   "display_name": "Python 3 (ipykernel)",
   "language": "python",
   "name": "python3"
  },
  "language_info": {
   "codemirror_mode": {
    "name": "ipython",
    "version": 3
   },
   "file_extension": ".py",
   "mimetype": "text/x-python",
   "name": "python",
   "nbconvert_exporter": "python",
   "pygments_lexer": "ipython3",
   "version": "3.9.7"
  }
 },
 "nbformat": 4,
 "nbformat_minor": 5
}
